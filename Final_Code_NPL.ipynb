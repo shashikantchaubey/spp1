{
  "cells": [
    {
      "cell_type": "markdown",
      "source": [
        "# Solar Power Data Model"
      ],
      "metadata": {
        "id": "vDw6yIoIkuBR"
      }
    },
    {
      "cell_type": "code",
      "execution_count": null,
      "metadata": {
        "id": "d9_-u9MarHRS"
      },
      "outputs": [],
      "source": [
        "import numpy as np\n",
        "import matplotlib.pyplot as plt\n",
        "import seaborn as sns\n",
        "import pandas as pd"
      ]
    },
    {
      "cell_type": "code",
      "execution_count": null,
      "metadata": {
        "id": "_JwxTA2hrkce"
      },
      "outputs": [],
      "source": [
        "# lets read the dataset\n",
        "data = pd.read_csv(\"Nise_solar_data.csv\")"
      ]
    },
    {
      "cell_type": "code",
      "execution_count": null,
      "metadata": {
        "colab": {
          "base_uri": "https://localhost:8080/",
          "height": 206
        },
        "id": "2R6LSFQTuJaM",
        "outputId": "cb97659a-49c4-410b-b924-c9e02346c90d"
      },
      "outputs": [
        {
          "output_type": "execute_result",
          "data": {
            "text/plain": [
              "  Timestamp  Air Temp (degC) Wind Speed (cm/s)  Panel Temp (degC)  \\\n",
              "0   00:00.0        16.335964         124.64684          25.119460   \n",
              "1   05:00.0        16.289640         85.642344          25.043114   \n",
              "2   10:00.0        16.285664         65.216872          25.030530   \n",
              "3   15:00.0        16.281720         122.53746          25.096418   \n",
              "4   20:00.0        16.244652         105.88936          25.060858   \n",
              "\n",
              "   Array Voltage (V)  Array Current (A)  Solar Radiation (W/m2)   Power (W)  \n",
              "0           2.640770           5.399288                   0.082  296.133333  \n",
              "1           2.645897           5.399017                   0.099  245.850000  \n",
              "2           2.660332           5.398926                   0.150  291.700000  \n",
              "3           2.148491           5.399197                   0.212  190.483333  \n",
              "4           2.066124           5.399017                   0.267  274.800000  "
            ],
            "text/html": [
              "\n",
              "  <div id=\"df-2b22cdfd-54a8-4238-9181-194f289a21af\">\n",
              "    <div class=\"colab-df-container\">\n",
              "      <div>\n",
              "<style scoped>\n",
              "    .dataframe tbody tr th:only-of-type {\n",
              "        vertical-align: middle;\n",
              "    }\n",
              "\n",
              "    .dataframe tbody tr th {\n",
              "        vertical-align: top;\n",
              "    }\n",
              "\n",
              "    .dataframe thead th {\n",
              "        text-align: right;\n",
              "    }\n",
              "</style>\n",
              "<table border=\"1\" class=\"dataframe\">\n",
              "  <thead>\n",
              "    <tr style=\"text-align: right;\">\n",
              "      <th></th>\n",
              "      <th>Timestamp</th>\n",
              "      <th>Air Temp (degC)</th>\n",
              "      <th>Wind Speed (cm/s)</th>\n",
              "      <th>Panel Temp (degC)</th>\n",
              "      <th>Array Voltage (V)</th>\n",
              "      <th>Array Current (A)</th>\n",
              "      <th>Solar Radiation (W/m2)</th>\n",
              "      <th>Power (W)</th>\n",
              "    </tr>\n",
              "  </thead>\n",
              "  <tbody>\n",
              "    <tr>\n",
              "      <th>0</th>\n",
              "      <td>00:00.0</td>\n",
              "      <td>16.335964</td>\n",
              "      <td>124.64684</td>\n",
              "      <td>25.119460</td>\n",
              "      <td>2.640770</td>\n",
              "      <td>5.399288</td>\n",
              "      <td>0.082</td>\n",
              "      <td>296.133333</td>\n",
              "    </tr>\n",
              "    <tr>\n",
              "      <th>1</th>\n",
              "      <td>05:00.0</td>\n",
              "      <td>16.289640</td>\n",
              "      <td>85.642344</td>\n",
              "      <td>25.043114</td>\n",
              "      <td>2.645897</td>\n",
              "      <td>5.399017</td>\n",
              "      <td>0.099</td>\n",
              "      <td>245.850000</td>\n",
              "    </tr>\n",
              "    <tr>\n",
              "      <th>2</th>\n",
              "      <td>10:00.0</td>\n",
              "      <td>16.285664</td>\n",
              "      <td>65.216872</td>\n",
              "      <td>25.030530</td>\n",
              "      <td>2.660332</td>\n",
              "      <td>5.398926</td>\n",
              "      <td>0.150</td>\n",
              "      <td>291.700000</td>\n",
              "    </tr>\n",
              "    <tr>\n",
              "      <th>3</th>\n",
              "      <td>15:00.0</td>\n",
              "      <td>16.281720</td>\n",
              "      <td>122.53746</td>\n",
              "      <td>25.096418</td>\n",
              "      <td>2.148491</td>\n",
              "      <td>5.399197</td>\n",
              "      <td>0.212</td>\n",
              "      <td>190.483333</td>\n",
              "    </tr>\n",
              "    <tr>\n",
              "      <th>4</th>\n",
              "      <td>20:00.0</td>\n",
              "      <td>16.244652</td>\n",
              "      <td>105.88936</td>\n",
              "      <td>25.060858</td>\n",
              "      <td>2.066124</td>\n",
              "      <td>5.399017</td>\n",
              "      <td>0.267</td>\n",
              "      <td>274.800000</td>\n",
              "    </tr>\n",
              "  </tbody>\n",
              "</table>\n",
              "</div>\n",
              "      <button class=\"colab-df-convert\" onclick=\"convertToInteractive('df-2b22cdfd-54a8-4238-9181-194f289a21af')\"\n",
              "              title=\"Convert this dataframe to an interactive table.\"\n",
              "              style=\"display:none;\">\n",
              "        \n",
              "  <svg xmlns=\"http://www.w3.org/2000/svg\" height=\"24px\"viewBox=\"0 0 24 24\"\n",
              "       width=\"24px\">\n",
              "    <path d=\"M0 0h24v24H0V0z\" fill=\"none\"/>\n",
              "    <path d=\"M18.56 5.44l.94 2.06.94-2.06 2.06-.94-2.06-.94-.94-2.06-.94 2.06-2.06.94zm-11 1L8.5 8.5l.94-2.06 2.06-.94-2.06-.94L8.5 2.5l-.94 2.06-2.06.94zm10 10l.94 2.06.94-2.06 2.06-.94-2.06-.94-.94-2.06-.94 2.06-2.06.94z\"/><path d=\"M17.41 7.96l-1.37-1.37c-.4-.4-.92-.59-1.43-.59-.52 0-1.04.2-1.43.59L10.3 9.45l-7.72 7.72c-.78.78-.78 2.05 0 2.83L4 21.41c.39.39.9.59 1.41.59.51 0 1.02-.2 1.41-.59l7.78-7.78 2.81-2.81c.8-.78.8-2.07 0-2.86zM5.41 20L4 18.59l7.72-7.72 1.47 1.35L5.41 20z\"/>\n",
              "  </svg>\n",
              "      </button>\n",
              "      \n",
              "  <style>\n",
              "    .colab-df-container {\n",
              "      display:flex;\n",
              "      flex-wrap:wrap;\n",
              "      gap: 12px;\n",
              "    }\n",
              "\n",
              "    .colab-df-convert {\n",
              "      background-color: #E8F0FE;\n",
              "      border: none;\n",
              "      border-radius: 50%;\n",
              "      cursor: pointer;\n",
              "      display: none;\n",
              "      fill: #1967D2;\n",
              "      height: 32px;\n",
              "      padding: 0 0 0 0;\n",
              "      width: 32px;\n",
              "    }\n",
              "\n",
              "    .colab-df-convert:hover {\n",
              "      background-color: #E2EBFA;\n",
              "      box-shadow: 0px 1px 2px rgba(60, 64, 67, 0.3), 0px 1px 3px 1px rgba(60, 64, 67, 0.15);\n",
              "      fill: #174EA6;\n",
              "    }\n",
              "\n",
              "    [theme=dark] .colab-df-convert {\n",
              "      background-color: #3B4455;\n",
              "      fill: #D2E3FC;\n",
              "    }\n",
              "\n",
              "    [theme=dark] .colab-df-convert:hover {\n",
              "      background-color: #434B5C;\n",
              "      box-shadow: 0px 1px 3px 1px rgba(0, 0, 0, 0.15);\n",
              "      filter: drop-shadow(0px 1px 2px rgba(0, 0, 0, 0.3));\n",
              "      fill: #FFFFFF;\n",
              "    }\n",
              "  </style>\n",
              "\n",
              "      <script>\n",
              "        const buttonEl =\n",
              "          document.querySelector('#df-2b22cdfd-54a8-4238-9181-194f289a21af button.colab-df-convert');\n",
              "        buttonEl.style.display =\n",
              "          google.colab.kernel.accessAllowed ? 'block' : 'none';\n",
              "\n",
              "        async function convertToInteractive(key) {\n",
              "          const element = document.querySelector('#df-2b22cdfd-54a8-4238-9181-194f289a21af');\n",
              "          const dataTable =\n",
              "            await google.colab.kernel.invokeFunction('convertToInteractive',\n",
              "                                                     [key], {});\n",
              "          if (!dataTable) return;\n",
              "\n",
              "          const docLinkHtml = 'Like what you see? Visit the ' +\n",
              "            '<a target=\"_blank\" href=https://colab.research.google.com/notebooks/data_table.ipynb>data table notebook</a>'\n",
              "            + ' to learn more about interactive tables.';\n",
              "          element.innerHTML = '';\n",
              "          dataTable['output_type'] = 'display_data';\n",
              "          await google.colab.output.renderOutput(dataTable, element);\n",
              "          const docLink = document.createElement('div');\n",
              "          docLink.innerHTML = docLinkHtml;\n",
              "          element.appendChild(docLink);\n",
              "        }\n",
              "      </script>\n",
              "    </div>\n",
              "  </div>\n",
              "  "
            ]
          },
          "metadata": {},
          "execution_count": 3
        }
      ],
      "source": [
        "data.head()"
      ]
    },
    {
      "cell_type": "code",
      "execution_count": null,
      "metadata": {
        "colab": {
          "base_uri": "https://localhost:8080/"
        },
        "id": "GAYvmR_QuerL",
        "outputId": "b9236a43-4ba6-49b9-da82-c0d24c76f4f9"
      },
      "outputs": [
        {
          "output_type": "stream",
          "name": "stdout",
          "text": [
            "<class 'pandas.core.frame.DataFrame'>\n",
            "RangeIndex: 1563 entries, 0 to 1562\n",
            "Data columns (total 8 columns):\n",
            " #   Column                  Non-Null Count  Dtype  \n",
            "---  ------                  --------------  -----  \n",
            " 0   Timestamp               1561 non-null   object \n",
            " 1   Air Temp (degC)         1561 non-null   float64\n",
            " 2   Wind Speed (cm/s)       1561 non-null   object \n",
            " 3   Panel Temp (degC)       1561 non-null   float64\n",
            " 4   Array Voltage (V)       1561 non-null   float64\n",
            " 5   Array Current (A)       1561 non-null   float64\n",
            " 6   Solar Radiation (W/m2)  1561 non-null   float64\n",
            " 7   Power (W)               1561 non-null   float64\n",
            "dtypes: float64(6), object(2)\n",
            "memory usage: 97.8+ KB\n"
          ]
        }
      ],
      "source": [
        "data.info()"
      ]
    },
    {
      "cell_type": "markdown",
      "source": [
        "# Exploratory Data Analysis"
      ],
      "metadata": {
        "id": "XfuNx2PfkU_e"
      }
    },
    {
      "cell_type": "code",
      "source": [
        "sns.scatterplot(data=data, x=\"Air Temp (degC)\", y=\"Power (W)\")"
      ],
      "metadata": {
        "colab": {
          "base_uri": "https://localhost:8080/",
          "height": 296
        },
        "id": "EKMgboekJHkO",
        "outputId": "03d4a411-c3f4-4b27-f5b7-034db9145e2e"
      },
      "execution_count": null,
      "outputs": [
        {
          "output_type": "execute_result",
          "data": {
            "text/plain": [
              "<matplotlib.axes._subplots.AxesSubplot at 0x7f6eb2788250>"
            ]
          },
          "metadata": {},
          "execution_count": 5
        },
        {
          "output_type": "display_data",
          "data": {
            "text/plain": [
              "<Figure size 432x288 with 1 Axes>"
            ],
            "image/png": "[encoded data removed]"
          },
          "metadata": {
            "needs_background": "light"
          }
        }
      ]
    },
    {
      "cell_type": "code",
      "source": [
        "sns.scatterplot(data=data, x=\"Panel Temp (degC)\", y=\"Solar Radiation (W/m2)\", hue=\"Power (W)\")"
      ],
      "metadata": {
        "colab": {
          "base_uri": "https://localhost:8080/",
          "height": 296
        },
        "id": "dmESGlEjJHin",
        "outputId": "4a9d47cc-a942-4a42-dd69-75d1628cc419"
      },
      "execution_count": null,
      "outputs": [
        {
          "output_type": "execute_result",
          "data": {
            "text/plain": [
              "<matplotlib.axes._subplots.AxesSubplot at 0x7f6e9c79f450>"
            ]
          },
          "metadata": {},
          "execution_count": 6
        },
        {
          "output_type": "display_data",
          "data": {
            "text/plain": [
              "<Figure size 432x288 with 1 Axes>"
            ],
            "image/png": "[encoded data removed]"
          },
          "metadata": {
            "needs_background": "light"
          }
        }
      ]
    },
    {
      "cell_type": "code",
      "source": [],
      "metadata": {
        "id": "KxpM9nv1JHgR"
      },
      "execution_count": null,
      "outputs": []
    },
    {
      "cell_type": "code",
      "source": [],
      "metadata": {
        "id": "NAGL3N3bJHeH"
      },
      "execution_count": null,
      "outputs": []
    },
    {
      "cell_type": "code",
      "source": [],
      "metadata": {
        "id": "lroMYCafJHbq"
      },
      "execution_count": null,
      "outputs": []
    },
    {
      "cell_type": "code",
      "source": [],
      "metadata": {
        "id": "qdO1myd6JHZO"
      },
      "execution_count": null,
      "outputs": []
    },
    {
      "cell_type": "code",
      "source": [],
      "metadata": {
        "id": "ISZQyOCnJHW4"
      },
      "execution_count": null,
      "outputs": []
    },
    {
      "cell_type": "code",
      "source": [
        "sns.jointplot(x='Solar Radiation (W/m2)',y='Power (W)',data = data, kind = 'kde' ,color = 'brown')"
      ],
      "metadata": {
        "colab": {
          "base_uri": "https://localhost:8080/",
          "height": 458
        },
        "id": "IwZlf2VZnJiq",
        "outputId": "4533dcf1-31b7-4f09-863d-3e2552bbf7de"
      },
      "execution_count": null,
      "outputs": [
        {
          "output_type": "execute_result",
          "data": {
            "text/plain": [
              "<seaborn.axisgrid.JointGrid at 0x7f6e9c231c50>"
            ]
          },
          "metadata": {},
          "execution_count": 7
        },
        {
          "output_type": "display_data",
          "data": {
            "text/plain": [
              "<Figure size 432x432 with 3 Axes>"
            ],
            "image/png": "[encoded data removed]"
          },
          "metadata": {
            "needs_background": "light"
          }
        }
      ]
    },
    {
      "cell_type": "code",
      "source": [
        "sns.jointplot(x='Solar Radiation (W/m2)',y='Air Temp (degC)',data = data)"
      ],
      "metadata": {
        "colab": {
          "base_uri": "https://localhost:8080/",
          "height": 458
        },
        "id": "bPnSntl5nfeC",
        "outputId": "9f982e30-ddc3-4e09-be2d-f0db8720fb8c"
      },
      "execution_count": null,
      "outputs": [
        {
          "output_type": "execute_result",
          "data": {
            "text/plain": [
              "<seaborn.axisgrid.JointGrid at 0x7f6e97f00410>"
            ]
          },
          "metadata": {},
          "execution_count": 8
        },
        {
          "output_type": "display_data",
          "data": {
            "text/plain": [
              "<Figure size 432x432 with 3 Axes>"
            ],
            "image/png": "[encoded data removed]"
          },
          "metadata": {
            "needs_background": "light"
          }
        }
      ]
    },
    {
      "cell_type": "code",
      "source": [
        "sns.jointplot(x='Solar Radiation (W/m2)',y='Power (W)',data = data)"
      ],
      "metadata": {
        "colab": {
          "base_uri": "https://localhost:8080/",
          "height": 458
        },
        "id": "sx4j4AQ8o47A",
        "outputId": "6bc9b54f-0552-44c1-9891-1934728eb549"
      },
      "execution_count": null,
      "outputs": [
        {
          "output_type": "execute_result",
          "data": {
            "text/plain": [
              "<seaborn.axisgrid.JointGrid at 0x7f6e97d25710>"
            ]
          },
          "metadata": {},
          "execution_count": 9
        },
        {
          "output_type": "display_data",
          "data": {
            "text/plain": [
              "<Figure size 432x432 with 3 Axes>"
            ],
            "image/png": "[encoded data removed]"
          },
          "metadata": {
            "needs_background": "light"
          }
        }
      ]
    },
    {
      "cell_type": "code",
      "source": [
        "# sns.pairplot(data, hue= 'Power_Generated')"
      ],
      "metadata": {
        "id": "Wk-Y-nKvn3Ej"
      },
      "execution_count": null,
      "outputs": []
    },
    {
      "cell_type": "code",
      "source": [
        "# Removing the two columns which is not in need\n",
        "waste1 = data.pop(\"Timestamp\")\n",
        "# waste2 = data.pop(\"Wind Speed (cm/s)\")"
      ],
      "metadata": {
        "id": "VLN-MKL5EaGF"
      },
      "execution_count": null,
      "outputs": []
    },
    {
      "cell_type": "code",
      "source": [
        "data.info()"
      ],
      "metadata": {
        "colab": {
          "base_uri": "https://localhost:8080/"
        },
        "id": "YpBjJYYpEceX",
        "outputId": "1a867fbb-bd19-4bcf-b174-66ec6555e268"
      },
      "execution_count": null,
      "outputs": [
        {
          "output_type": "stream",
          "name": "stdout",
          "text": [
            "<class 'pandas.core.frame.DataFrame'>\n",
            "RangeIndex: 1563 entries, 0 to 1562\n",
            "Data columns (total 7 columns):\n",
            " #   Column                  Non-Null Count  Dtype  \n",
            "---  ------                  --------------  -----  \n",
            " 0   Air Temp (degC)         1561 non-null   float64\n",
            " 1   Wind Speed (cm/s)       1561 non-null   object \n",
            " 2   Panel Temp (degC)       1561 non-null   float64\n",
            " 3   Array Voltage (V)       1561 non-null   float64\n",
            " 4   Array Current (A)       1561 non-null   float64\n",
            " 5   Solar Radiation (W/m2)  1561 non-null   float64\n",
            " 6   Power (W)               1561 non-null   float64\n",
            "dtypes: float64(6), object(1)\n",
            "memory usage: 85.6+ KB\n"
          ]
        }
      ]
    },
    {
      "cell_type": "code",
      "source": [
        "data.head(4)"
      ],
      "metadata": {
        "colab": {
          "base_uri": "https://localhost:8080/",
          "height": 175
        },
        "id": "GyqMyB8cKwf7",
        "outputId": "47468227-a22a-42ac-eb62-c79d8498ff84"
      },
      "execution_count": null,
      "outputs": [
        {
          "output_type": "execute_result",
          "data": {
            "text/plain": [
              "   Air Temp (degC) Wind Speed (cm/s)  Panel Temp (degC)  Array Voltage (V)  \\\n",
              "0        16.335964         124.64684          25.119460           2.640770   \n",
              "1        16.289640         85.642344          25.043114           2.645897   \n",
              "2        16.285664         65.216872          25.030530           2.660332   \n",
              "3        16.281720         122.53746          25.096418           2.148491   \n",
              "\n",
              "   Array Current (A)  Solar Radiation (W/m2)   Power (W)  \n",
              "0           5.399288                   0.082  296.133333  \n",
              "1           5.399017                   0.099  245.850000  \n",
              "2           5.398926                   0.150  291.700000  \n",
              "3           5.399197                   0.212  190.483333  "
            ],
            "text/html": [
              "\n",
              "  <div id=\"df-dfc67987-d6d0-4de9-88fd-36aedc796b8c\">\n",
              "    <div class=\"colab-df-container\">\n",
              "      <div>\n",
              "<style scoped>\n",
              "    .dataframe tbody tr th:only-of-type {\n",
              "        vertical-align: middle;\n",
              "    }\n",
              "\n",
              "    .dataframe tbody tr th {\n",
              "        vertical-align: top;\n",
              "    }\n",
              "\n",
              "    .dataframe thead th {\n",
              "        text-align: right;\n",
              "    }\n",
              "</style>\n",
              "<table border=\"1\" class=\"dataframe\">\n",
              "  <thead>\n",
              "    <tr style=\"text-align: right;\">\n",
              "      <th></th>\n",
              "      <th>Air Temp (degC)</th>\n",
              "      <th>Wind Speed (cm/s)</th>\n",
              "      <th>Panel Temp (degC)</th>\n",
              "      <th>Array Voltage (V)</th>\n",
              "      <th>Array Current (A)</th>\n",
              "      <th>Solar Radiation (W/m2)</th>\n",
              "      <th>Power (W)</th>\n",
              "    </tr>\n",
              "  </thead>\n",
              "  <tbody>\n",
              "    <tr>\n",
              "      <th>0</th>\n",
              "      <td>16.335964</td>\n",
              "      <td>124.64684</td>\n",
              "      <td>25.119460</td>\n",
              "      <td>2.640770</td>\n",
              "      <td>5.399288</td>\n",
              "      <td>0.082</td>\n",
              "      <td>296.133333</td>\n",
              "    </tr>\n",
              "    <tr>\n",
              "      <th>1</th>\n",
              "      <td>16.289640</td>\n",
              "      <td>85.642344</td>\n",
              "      <td>25.043114</td>\n",
              "      <td>2.645897</td>\n",
              "      <td>5.399017</td>\n",
              "      <td>0.099</td>\n",
              "      <td>245.850000</td>\n",
              "    </tr>\n",
              "    <tr>\n",
              "      <th>2</th>\n",
              "      <td>16.285664</td>\n",
              "      <td>65.216872</td>\n",
              "      <td>25.030530</td>\n",
              "      <td>2.660332</td>\n",
              "      <td>5.398926</td>\n",
              "      <td>0.150</td>\n",
              "      <td>291.700000</td>\n",
              "    </tr>\n",
              "    <tr>\n",
              "      <th>3</th>\n",
              "      <td>16.281720</td>\n",
              "      <td>122.53746</td>\n",
              "      <td>25.096418</td>\n",
              "      <td>2.148491</td>\n",
              "      <td>5.399197</td>\n",
              "      <td>0.212</td>\n",
              "      <td>190.483333</td>\n",
              "    </tr>\n",
              "  </tbody>\n",
              "</table>\n",
              "</div>\n",
              "      <button class=\"colab-df-convert\" onclick=\"convertToInteractive('df-dfc67987-d6d0-4de9-88fd-36aedc796b8c')\"\n",
              "              title=\"Convert this dataframe to an interactive table.\"\n",
              "              style=\"display:none;\">\n",
              "        \n",
              "  <svg xmlns=\"http://www.w3.org/2000/svg\" height=\"24px\"viewBox=\"0 0 24 24\"\n",
              "       width=\"24px\">\n",
              "    <path d=\"M0 0h24v24H0V0z\" fill=\"none\"/>\n",
              "    <path d=\"M18.56 5.44l.94 2.06.94-2.06 2.06-.94-2.06-.94-.94-2.06-.94 2.06-2.06.94zm-11 1L8.5 8.5l.94-2.06 2.06-.94-2.06-.94L8.5 2.5l-.94 2.06-2.06.94zm10 10l.94 2.06.94-2.06 2.06-.94-2.06-.94-.94-2.06-.94 2.06-2.06.94z\"/><path d=\"M17.41 7.96l-1.37-1.37c-.4-.4-.92-.59-1.43-.59-.52 0-1.04.2-1.43.59L10.3 9.45l-7.72 7.72c-.78.78-.78 2.05 0 2.83L4 21.41c.39.39.9.59 1.41.59.51 0 1.02-.2 1.41-.59l7.78-7.78 2.81-2.81c.8-.78.8-2.07 0-2.86zM5.41 20L4 18.59l7.72-7.72 1.47 1.35L5.41 20z\"/>\n",
              "  </svg>\n",
              "      </button>\n",
              "      \n",
              "  <style>\n",
              "    .colab-df-container {\n",
              "      display:flex;\n",
              "      flex-wrap:wrap;\n",
              "      gap: 12px;\n",
              "    }\n",
              "\n",
              "    .colab-df-convert {\n",
              "      background-color: #E8F0FE;\n",
              "      border: none;\n",
              "      border-radius: 50%;\n",
              "      cursor: pointer;\n",
              "      display: none;\n",
              "      fill: #1967D2;\n",
              "      height: 32px;\n",
              "      padding: 0 0 0 0;\n",
              "      width: 32px;\n",
              "    }\n",
              "\n",
              "    .colab-df-convert:hover {\n",
              "      background-color: #E2EBFA;\n",
              "      box-shadow: 0px 1px 2px rgba(60, 64, 67, 0.3), 0px 1px 3px 1px rgba(60, 64, 67, 0.15);\n",
              "      fill: #174EA6;\n",
              "    }\n",
              "\n",
              "    [theme=dark] .colab-df-convert {\n",
              "      background-color: #3B4455;\n",
              "      fill: #D2E3FC;\n",
              "    }\n",
              "\n",
              "    [theme=dark] .colab-df-convert:hover {\n",
              "      background-color: #434B5C;\n",
              "      box-shadow: 0px 1px 3px 1px rgba(0, 0, 0, 0.15);\n",
              "      filter: drop-shadow(0px 1px 2px rgba(0, 0, 0, 0.3));\n",
              "      fill: #FFFFFF;\n",
              "    }\n",
              "  </style>\n",
              "\n",
              "      <script>\n",
              "        const buttonEl =\n",
              "          document.querySelector('#df-dfc67987-d6d0-4de9-88fd-36aedc796b8c button.colab-df-convert');\n",
              "        buttonEl.style.display =\n",
              "          google.colab.kernel.accessAllowed ? 'block' : 'none';\n",
              "\n",
              "        async function convertToInteractive(key) {\n",
              "          const element = document.querySelector('#df-dfc67987-d6d0-4de9-88fd-36aedc796b8c');\n",
              "          const dataTable =\n",
              "            await google.colab.kernel.invokeFunction('convertToInteractive',\n",
              "                                                     [key], {});\n",
              "          if (!dataTable) return;\n",
              "\n",
              "          const docLinkHtml = 'Like what you see? Visit the ' +\n",
              "            '<a target=\"_blank\" href=https://colab.research.google.com/notebooks/data_table.ipynb>data table notebook</a>'\n",
              "            + ' to learn more about interactive tables.';\n",
              "          element.innerHTML = '';\n",
              "          dataTable['output_type'] = 'display_data';\n",
              "          await google.colab.output.renderOutput(dataTable, element);\n",
              "          const docLink = document.createElement('div');\n",
              "          docLink.innerHTML = docLinkHtml;\n",
              "          element.appendChild(docLink);\n",
              "        }\n",
              "      </script>\n",
              "    </div>\n",
              "  </div>\n",
              "  "
            ]
          },
          "metadata": {},
          "execution_count": 13
        }
      ]
    },
    {
      "cell_type": "code",
      "source": [
        "data.describe()"
      ],
      "metadata": {
        "colab": {
          "base_uri": "https://localhost:8080/",
          "height": 300
        },
        "id": "CGgxRJJppvrp",
        "outputId": "672c7842-8fd2-4289-e289-f5631908d257"
      },
      "execution_count": null,
      "outputs": [
        {
          "output_type": "execute_result",
          "data": {
            "text/plain": [
              "       Air Temp (degC)  Panel Temp (degC)  Array Voltage (V)  \\\n",
              "count      1561.000000        1561.000000        1561.000000   \n",
              "mean         20.592193          37.134946          35.309061   \n",
              "std           7.255375          17.916033          30.911454   \n",
              "min          12.603184          21.924614           1.483992   \n",
              "25%          15.864284          24.841270           2.190518   \n",
              "50%          17.559780          27.049252          51.595404   \n",
              "75%          22.166158          44.452716          56.147356   \n",
              "max          42.781088          96.081104          89.599624   \n",
              "\n",
              "       Array Current (A)  Solar Radiation (W/m2)    Power (W)  \n",
              "count        1561.000000             1561.000000  1561.000000  \n",
              "mean            5.392389                0.855903   454.114260  \n",
              "std             0.010195                0.546929   280.988537  \n",
              "min             5.369065                0.082000     0.000000  \n",
              "25%             5.384840                0.375500   261.416667  \n",
              "50%             5.397202                0.710620   409.100000  \n",
              "75%             5.400489                1.214200   608.700000  \n",
              "max             5.404922                2.142000  3773.200000  "
            ],
            "text/html": [
              "\n",
              "  <div id=\"df-9013a391-d152-47d8-af90-c8211553d7b8\">\n",
              "    <div class=\"colab-df-container\">\n",
              "      <div>\n",
              "<style scoped>\n",
              "    .dataframe tbody tr th:only-of-type {\n",
              "        vertical-align: middle;\n",
              "    }\n",
              "\n",
              "    .dataframe tbody tr th {\n",
              "        vertical-align: top;\n",
              "    }\n",
              "\n",
              "    .dataframe thead th {\n",
              "        text-align: right;\n",
              "    }\n",
              "</style>\n",
              "<table border=\"1\" class=\"dataframe\">\n",
              "  <thead>\n",
              "    <tr style=\"text-align: right;\">\n",
              "      <th></th>\n",
              "      <th>Air Temp (degC)</th>\n",
              "      <th>Panel Temp (degC)</th>\n",
              "      <th>Array Voltage (V)</th>\n",
              "      <th>Array Current (A)</th>\n",
              "      <th>Solar Radiation (W/m2)</th>\n",
              "      <th>Power (W)</th>\n",
              "    </tr>\n",
              "  </thead>\n",
              "  <tbody>\n",
              "    <tr>\n",
              "      <th>count</th>\n",
              "      <td>1561.000000</td>\n",
              "      <td>1561.000000</td>\n",
              "      <td>1561.000000</td>\n",
              "      <td>1561.000000</td>\n",
              "      <td>1561.000000</td>\n",
              "      <td>1561.000000</td>\n",
              "    </tr>\n",
              "    <tr>\n",
              "      <th>mean</th>\n",
              "      <td>20.592193</td>\n",
              "      <td>37.134946</td>\n",
              "      <td>35.309061</td>\n",
              "      <td>5.392389</td>\n",
              "      <td>0.855903</td>\n",
              "      <td>454.114260</td>\n",
              "    </tr>\n",
              "    <tr>\n",
              "      <th>std</th>\n",
              "      <td>7.255375</td>\n",
              "      <td>17.916033</td>\n",
              "      <td>30.911454</td>\n",
              "      <td>0.010195</td>\n",
              "      <td>0.546929</td>\n",
              "      <td>280.988537</td>\n",
              "    </tr>\n",
              "    <tr>\n",
              "      <th>min</th>\n",
              "      <td>12.603184</td>\n",
              "      <td>21.924614</td>\n",
              "      <td>1.483992</td>\n",
              "      <td>5.369065</td>\n",
              "      <td>0.082000</td>\n",
              "      <td>0.000000</td>\n",
              "    </tr>\n",
              "    <tr>\n",
              "      <th>25%</th>\n",
              "      <td>15.864284</td>\n",
              "      <td>24.841270</td>\n",
              "      <td>2.190518</td>\n",
              "      <td>5.384840</td>\n",
              "      <td>0.375500</td>\n",
              "      <td>261.416667</td>\n",
              "    </tr>\n",
              "    <tr>\n",
              "      <th>50%</th>\n",
              "      <td>17.559780</td>\n",
              "      <td>27.049252</td>\n",
              "      <td>51.595404</td>\n",
              "      <td>5.397202</td>\n",
              "      <td>0.710620</td>\n",
              "      <td>409.100000</td>\n",
              "    </tr>\n",
              "    <tr>\n",
              "      <th>75%</th>\n",
              "      <td>22.166158</td>\n",
              "      <td>44.452716</td>\n",
              "      <td>56.147356</td>\n",
              "      <td>5.400489</td>\n",
              "      <td>1.214200</td>\n",
              "      <td>608.700000</td>\n",
              "    </tr>\n",
              "    <tr>\n",
              "      <th>max</th>\n",
              "      <td>42.781088</td>\n",
              "      <td>96.081104</td>\n",
              "      <td>89.599624</td>\n",
              "      <td>5.404922</td>\n",
              "      <td>2.142000</td>\n",
              "      <td>3773.200000</td>\n",
              "    </tr>\n",
              "  </tbody>\n",
              "</table>\n",
              "</div>\n",
              "      <button class=\"colab-df-convert\" onclick=\"convertToInteractive('df-9013a391-d152-47d8-af90-c8211553d7b8')\"\n",
              "              title=\"Convert this dataframe to an interactive table.\"\n",
              "              style=\"display:none;\">\n",
              "        \n",
              "  <svg xmlns=\"http://www.w3.org/2000/svg\" height=\"24px\"viewBox=\"0 0 24 24\"\n",
              "       width=\"24px\">\n",
              "    <path d=\"M0 0h24v24H0V0z\" fill=\"none\"/>\n",
              "    <path d=\"M18.56 5.44l.94 2.06.94-2.06 2.06-.94-2.06-.94-.94-2.06-.94 2.06-2.06.94zm-11 1L8.5 8.5l.94-2.06 2.06-.94-2.06-.94L8.5 2.5l-.94 2.06-2.06.94zm10 10l.94 2.06.94-2.06 2.06-.94-2.06-.94-.94-2.06-.94 2.06-2.06.94z\"/><path d=\"M17.41 7.96l-1.37-1.37c-.4-.4-.92-.59-1.43-.59-.52 0-1.04.2-1.43.59L10.3 9.45l-7.72 7.72c-.78.78-.78 2.05 0 2.83L4 21.41c.39.39.9.59 1.41.59.51 0 1.02-.2 1.41-.59l7.78-7.78 2.81-2.81c.8-.78.8-2.07 0-2.86zM5.41 20L4 18.59l7.72-7.72 1.47 1.35L5.41 20z\"/>\n",
              "  </svg>\n",
              "      </button>\n",
              "      \n",
              "  <style>\n",
              "    .colab-df-container {\n",
              "      display:flex;\n",
              "      flex-wrap:wrap;\n",
              "      gap: 12px;\n",
              "    }\n",
              "\n",
              "    .colab-df-convert {\n",
              "      background-color: #E8F0FE;\n",
              "      border: none;\n",
              "      border-radius: 50%;\n",
              "      cursor: pointer;\n",
              "      display: none;\n",
              "      fill: #1967D2;\n",
              "      height: 32px;\n",
              "      padding: 0 0 0 0;\n",
              "      width: 32px;\n",
              "    }\n",
              "\n",
              "    .colab-df-convert:hover {\n",
              "      background-color: #E2EBFA;\n",
              "      box-shadow: 0px 1px 2px rgba(60, 64, 67, 0.3), 0px 1px 3px 1px rgba(60, 64, 67, 0.15);\n",
              "      fill: #174EA6;\n",
              "    }\n",
              "\n",
              "    [theme=dark] .colab-df-convert {\n",
              "      background-color: #3B4455;\n",
              "      fill: #D2E3FC;\n",
              "    }\n",
              "\n",
              "    [theme=dark] .colab-df-convert:hover {\n",
              "      background-color: #434B5C;\n",
              "      box-shadow: 0px 1px 3px 1px rgba(0, 0, 0, 0.15);\n",
              "      filter: drop-shadow(0px 1px 2px rgba(0, 0, 0, 0.3));\n",
              "      fill: #FFFFFF;\n",
              "    }\n",
              "  </style>\n",
              "\n",
              "      <script>\n",
              "        const buttonEl =\n",
              "          document.querySelector('#df-9013a391-d152-47d8-af90-c8211553d7b8 button.colab-df-convert');\n",
              "        buttonEl.style.display =\n",
              "          google.colab.kernel.accessAllowed ? 'block' : 'none';\n",
              "\n",
              "        async function convertToInteractive(key) {\n",
              "          const element = document.querySelector('#df-9013a391-d152-47d8-af90-c8211553d7b8');\n",
              "          const dataTable =\n",
              "            await google.colab.kernel.invokeFunction('convertToInteractive',\n",
              "                                                     [key], {});\n",
              "          if (!dataTable) return;\n",
              "\n",
              "          const docLinkHtml = 'Like what you see? Visit the ' +\n",
              "            '<a target=\"_blank\" href=https://colab.research.google.com/notebooks/data_table.ipynb>data table notebook</a>'\n",
              "            + ' to learn more about interactive tables.';\n",
              "          element.innerHTML = '';\n",
              "          dataTable['output_type'] = 'display_data';\n",
              "          await google.colab.output.renderOutput(dataTable, element);\n",
              "          const docLink = document.createElement('div');\n",
              "          docLink.innerHTML = docLinkHtml;\n",
              "          element.appendChild(docLink);\n",
              "        }\n",
              "      </script>\n",
              "    </div>\n",
              "  </div>\n",
              "  "
            ]
          },
          "metadata": {},
          "execution_count": 14
        }
      ]
    },
    {
      "cell_type": "markdown",
      "source": [
        "## Checking for the String cell in columns One by one\n",
        "Because Model only takes numeric values\n",
        "link for some commands = https://www.statology.org/pandas-check-if-column-contains-string/ "
      ],
      "metadata": {
        "id": "i4PrLAHYkawI"
      }
    },
    {
      "cell_type": "code",
      "source": [
        "(data['Wind Speed (cm/s)'].eq('OverRange')).any()"
      ],
      "metadata": {
        "colab": {
          "base_uri": "https://localhost:8080/"
        },
        "id": "48nX3CzSij_E",
        "outputId": "4961e623-3a3e-4714-e6e6-fe55c4a70ec9"
      },
      "execution_count": null,
      "outputs": [
        {
          "output_type": "execute_result",
          "data": {
            "text/plain": [
              "True"
            ]
          },
          "metadata": {},
          "execution_count": 15
        }
      ]
    },
    {
      "cell_type": "code",
      "source": [
        "(data['Power (W)'].eq('OverRange')).any()"
      ],
      "metadata": {
        "colab": {
          "base_uri": "https://localhost:8080/"
        },
        "id": "ab8oFyItj0Z8",
        "outputId": "facf4597-6645-4b5b-e490-dd88db718342"
      },
      "execution_count": null,
      "outputs": [
        {
          "output_type": "execute_result",
          "data": {
            "text/plain": [
              "False"
            ]
          },
          "metadata": {},
          "execution_count": 16
        }
      ]
    },
    {
      "cell_type": "markdown",
      "source": [
        "## Checking again if any string present in columns"
      ],
      "metadata": {
        "id": "4tdRzppRke24"
      }
    },
    {
      "cell_type": "code",
      "source": [
        "data['Air Temp (degC)'].count()"
      ],
      "metadata": {
        "colab": {
          "base_uri": "https://localhost:8080/"
        },
        "id": "xjq4CmpOikFS",
        "outputId": "fb39c68c-04c1-445d-b59b-ddb9f8e6a2ab"
      },
      "execution_count": null,
      "outputs": [
        {
          "output_type": "execute_result",
          "data": {
            "text/plain": [
              "1561"
            ]
          },
          "metadata": {},
          "execution_count": 17
        }
      ]
    },
    {
      "cell_type": "code",
      "source": [
        "(data['Air Temp (degC)'].eq('exact_string')).any()"
      ],
      "metadata": {
        "colab": {
          "base_uri": "https://localhost:8080/"
        },
        "id": "MXWntSX1ikDh",
        "outputId": "103a0ed6-b556-4ad4-c8b1-d25f26e97734"
      },
      "execution_count": null,
      "outputs": [
        {
          "output_type": "execute_result",
          "data": {
            "text/plain": [
              "False"
            ]
          },
          "metadata": {},
          "execution_count": 18
        }
      ]
    },
    {
      "cell_type": "code",
      "source": [
        "(data['Power (W)'].eq('exact_string')).any()"
      ],
      "metadata": {
        "colab": {
          "base_uri": "https://localhost:8080/"
        },
        "id": "BE2jU_XOikBX",
        "outputId": "17e30d05-e869-4125-9353-70dadc1f32b4"
      },
      "execution_count": null,
      "outputs": [
        {
          "output_type": "execute_result",
          "data": {
            "text/plain": [
              "False"
            ]
          },
          "metadata": {},
          "execution_count": 19
        }
      ]
    },
    {
      "cell_type": "markdown",
      "source": [
        "## Now Removing the String values from columns\n"
      ],
      "metadata": {
        "id": "KtBiNNwxij8u"
      }
    },
    {
      "cell_type": "code",
      "source": [
        "# The following code shows how to count the number of times the partial string 'OverRange' occurs in the conference column of the DataFrame:\n",
        "(data['Wind Speed (cm/s)'].eq('OverRange')).sum()"
      ],
      "metadata": {
        "colab": {
          "base_uri": "https://localhost:8080/"
        },
        "id": "arf-MJyMij6Z",
        "outputId": "9b89adb5-c8c3-4281-eba7-c19bd1975d18"
      },
      "execution_count": null,
      "outputs": [
        {
          "output_type": "execute_result",
          "data": {
            "text/plain": [
              "1"
            ]
          },
          "metadata": {},
          "execution_count": 20
        }
      ]
    },
    {
      "cell_type": "code",
      "source": [
        "(data['Wind Speed (cm/s)'].eq('OverRange')).index"
      ],
      "metadata": {
        "colab": {
          "base_uri": "https://localhost:8080/"
        },
        "id": "C44fIixzij06",
        "outputId": "0b5861a5-ab88-42c3-f176-de7743671a20"
      },
      "execution_count": null,
      "outputs": [
        {
          "output_type": "execute_result",
          "data": {
            "text/plain": [
              "RangeIndex(start=0, stop=1563, step=1)"
            ]
          },
          "metadata": {},
          "execution_count": 21
        }
      ]
    },
    {
      "cell_type": "markdown",
      "source": [
        "## Now we will drop the String cells from data\n",
        "\n",
        "---\n",
        "\n",
        "\n",
        "link for this - https://www.geeksforgeeks.org/how-to-drop-rows-that-contain-a-specific-string-in-pandas/"
      ],
      "metadata": {
        "id": "sGIkoxF6oZgM"
      }
    },
    {
      "cell_type": "code",
      "source": [
        "main_data = data[data['Wind Speed (cm/s)'].str.contains('OverRange')==False]"
      ],
      "metadata": {
        "id": "h5Dw7-9PlMQi"
      },
      "execution_count": null,
      "outputs": []
    },
    {
      "cell_type": "code",
      "source": [
        "(main_data['Wind Speed (cm/s)'].eq('OverRange')).any()"
      ],
      "metadata": {
        "colab": {
          "base_uri": "https://localhost:8080/"
        },
        "id": "gDhIDVsMlMNp",
        "outputId": "f136912c-813c-4b52-f7b1-67a30be951a0"
      },
      "execution_count": null,
      "outputs": [
        {
          "output_type": "execute_result",
          "data": {
            "text/plain": [
              "False"
            ]
          },
          "metadata": {},
          "execution_count": 23
        }
      ]
    },
    {
      "cell_type": "code",
      "source": [
        "# Now we will work with Main data"
      ],
      "metadata": {
        "id": "JNurF0zQlMLk"
      },
      "execution_count": null,
      "outputs": []
    },
    {
      "cell_type": "code",
      "source": [
        "main_data.head()"
      ],
      "metadata": {
        "colab": {
          "base_uri": "https://localhost:8080/",
          "height": 206
        },
        "id": "fhxoQs4olMJZ",
        "outputId": "bcc2f17d-f178-41d8-d522-4c12b2ca9b7e"
      },
      "execution_count": null,
      "outputs": [
        {
          "output_type": "execute_result",
          "data": {
            "text/plain": [
              "   Air Temp (degC) Wind Speed (cm/s)  Panel Temp (degC)  Array Voltage (V)  \\\n",
              "0        16.335964         124.64684          25.119460           2.640770   \n",
              "1        16.289640         85.642344          25.043114           2.645897   \n",
              "2        16.285664         65.216872          25.030530           2.660332   \n",
              "3        16.281720         122.53746          25.096418           2.148491   \n",
              "4        16.244652         105.88936          25.060858           2.066124   \n",
              "\n",
              "   Array Current (A)  Solar Radiation (W/m2)   Power (W)  \n",
              "0           5.399288                   0.082  296.133333  \n",
              "1           5.399017                   0.099  245.850000  \n",
              "2           5.398926                   0.150  291.700000  \n",
              "3           5.399197                   0.212  190.483333  \n",
              "4           5.399017                   0.267  274.800000  "
            ],
            "text/html": [
              "\n",
              "  <div id=\"df-f8267ccb-0178-4686-9633-a06bc5324e5a\">\n",
              "    <div class=\"colab-df-container\">\n",
              "      <div>\n",
              "<style scoped>\n",
              "    .dataframe tbody tr th:only-of-type {\n",
              "        vertical-align: middle;\n",
              "    }\n",
              "\n",
              "    .dataframe tbody tr th {\n",
              "        vertical-align: top;\n",
              "    }\n",
              "\n",
              "    .dataframe thead th {\n",
              "        text-align: right;\n",
              "    }\n",
              "</style>\n",
              "<table border=\"1\" class=\"dataframe\">\n",
              "  <thead>\n",
              "    <tr style=\"text-align: right;\">\n",
              "      <th></th>\n",
              "      <th>Air Temp (degC)</th>\n",
              "      <th>Wind Speed (cm/s)</th>\n",
              "      <th>Panel Temp (degC)</th>\n",
              "      <th>Array Voltage (V)</th>\n",
              "      <th>Array Current (A)</th>\n",
              "      <th>Solar Radiation (W/m2)</th>\n",
              "      <th>Power (W)</th>\n",
              "    </tr>\n",
              "  </thead>\n",
              "  <tbody>\n",
              "    <tr>\n",
              "      <th>0</th>\n",
              "      <td>16.335964</td>\n",
              "      <td>124.64684</td>\n",
              "      <td>25.119460</td>\n",
              "      <td>2.640770</td>\n",
              "      <td>5.399288</td>\n",
              "      <td>0.082</td>\n",
              "      <td>296.133333</td>\n",
              "    </tr>\n",
              "    <tr>\n",
              "      <th>1</th>\n",
              "      <td>16.289640</td>\n",
              "      <td>85.642344</td>\n",
              "      <td>25.043114</td>\n",
              "      <td>2.645897</td>\n",
              "      <td>5.399017</td>\n",
              "      <td>0.099</td>\n",
              "      <td>245.850000</td>\n",
              "    </tr>\n",
              "    <tr>\n",
              "      <th>2</th>\n",
              "      <td>16.285664</td>\n",
              "      <td>65.216872</td>\n",
              "      <td>25.030530</td>\n",
              "      <td>2.660332</td>\n",
              "      <td>5.398926</td>\n",
              "      <td>0.150</td>\n",
              "      <td>291.700000</td>\n",
              "    </tr>\n",
              "    <tr>\n",
              "      <th>3</th>\n",
              "      <td>16.281720</td>\n",
              "      <td>122.53746</td>\n",
              "      <td>25.096418</td>\n",
              "      <td>2.148491</td>\n",
              "      <td>5.399197</td>\n",
              "      <td>0.212</td>\n",
              "      <td>190.483333</td>\n",
              "    </tr>\n",
              "    <tr>\n",
              "      <th>4</th>\n",
              "      <td>16.244652</td>\n",
              "      <td>105.88936</td>\n",
              "      <td>25.060858</td>\n",
              "      <td>2.066124</td>\n",
              "      <td>5.399017</td>\n",
              "      <td>0.267</td>\n",
              "      <td>274.800000</td>\n",
              "    </tr>\n",
              "  </tbody>\n",
              "</table>\n",
              "</div>\n",
              "      <button class=\"colab-df-convert\" onclick=\"convertToInteractive('df-f8267ccb-0178-4686-9633-a06bc5324e5a')\"\n",
              "              title=\"Convert this dataframe to an interactive table.\"\n",
              "              style=\"display:none;\">\n",
              "        \n",
              "  <svg xmlns=\"http://www.w3.org/2000/svg\" height=\"24px\"viewBox=\"0 0 24 24\"\n",
              "       width=\"24px\">\n",
              "    <path d=\"M0 0h24v24H0V0z\" fill=\"none\"/>\n",
              "    <path d=\"M18.56 5.44l.94 2.06.94-2.06 2.06-.94-2.06-.94-.94-2.06-.94 2.06-2.06.94zm-11 1L8.5 8.5l.94-2.06 2.06-.94-2.06-.94L8.5 2.5l-.94 2.06-2.06.94zm10 10l.94 2.06.94-2.06 2.06-.94-2.06-.94-.94-2.06-.94 2.06-2.06.94z\"/><path d=\"M17.41 7.96l-1.37-1.37c-.4-.4-.92-.59-1.43-.59-.52 0-1.04.2-1.43.59L10.3 9.45l-7.72 7.72c-.78.78-.78 2.05 0 2.83L4 21.41c.39.39.9.59 1.41.59.51 0 1.02-.2 1.41-.59l7.78-7.78 2.81-2.81c.8-.78.8-2.07 0-2.86zM5.41 20L4 18.59l7.72-7.72 1.47 1.35L5.41 20z\"/>\n",
              "  </svg>\n",
              "      </button>\n",
              "      \n",
              "  <style>\n",
              "    .colab-df-container {\n",
              "      display:flex;\n",
              "      flex-wrap:wrap;\n",
              "      gap: 12px;\n",
              "    }\n",
              "\n",
              "    .colab-df-convert {\n",
              "      background-color: #E8F0FE;\n",
              "      border: none;\n",
              "      border-radius: 50%;\n",
              "      cursor: pointer;\n",
              "      display: none;\n",
              "      fill: #1967D2;\n",
              "      height: 32px;\n",
              "      padding: 0 0 0 0;\n",
              "      width: 32px;\n",
              "    }\n",
              "\n",
              "    .colab-df-convert:hover {\n",
              "      background-color: #E2EBFA;\n",
              "      box-shadow: 0px 1px 2px rgba(60, 64, 67, 0.3), 0px 1px 3px 1px rgba(60, 64, 67, 0.15);\n",
              "      fill: #174EA6;\n",
              "    }\n",
              "\n",
              "    [theme=dark] .colab-df-convert {\n",
              "      background-color: #3B4455;\n",
              "      fill: #D2E3FC;\n",
              "    }\n",
              "\n",
              "    [theme=dark] .colab-df-convert:hover {\n",
              "      background-color: #434B5C;\n",
              "      box-shadow: 0px 1px 3px 1px rgba(0, 0, 0, 0.15);\n",
              "      filter: drop-shadow(0px 1px 2px rgba(0, 0, 0, 0.3));\n",
              "      fill: #FFFFFF;\n",
              "    }\n",
              "  </style>\n",
              "\n",
              "      <script>\n",
              "        const buttonEl =\n",
              "          document.querySelector('#df-f8267ccb-0178-4686-9633-a06bc5324e5a button.colab-df-convert');\n",
              "        buttonEl.style.display =\n",
              "          google.colab.kernel.accessAllowed ? 'block' : 'none';\n",
              "\n",
              "        async function convertToInteractive(key) {\n",
              "          const element = document.querySelector('#df-f8267ccb-0178-4686-9633-a06bc5324e5a');\n",
              "          const dataTable =\n",
              "            await google.colab.kernel.invokeFunction('convertToInteractive',\n",
              "                                                     [key], {});\n",
              "          if (!dataTable) return;\n",
              "\n",
              "          const docLinkHtml = 'Like what you see? Visit the ' +\n",
              "            '<a target=\"_blank\" href=https://colab.research.google.com/notebooks/data_table.ipynb>data table notebook</a>'\n",
              "            + ' to learn more about interactive tables.';\n",
              "          element.innerHTML = '';\n",
              "          dataTable['output_type'] = 'display_data';\n",
              "          await google.colab.output.renderOutput(dataTable, element);\n",
              "          const docLink = document.createElement('div');\n",
              "          docLink.innerHTML = docLinkHtml;\n",
              "          element.appendChild(docLink);\n",
              "        }\n",
              "      </script>\n",
              "    </div>\n",
              "  </div>\n",
              "  "
            ]
          },
          "metadata": {},
          "execution_count": 25
        }
      ]
    },
    {
      "cell_type": "markdown",
      "source": [
        "## Min Max Declaration"
      ],
      "metadata": {
        "id": "gqGNehPKbwva"
      }
    },
    {
      "cell_type": "code",
      "source": [
        "min_d = main_data['Power (W)'].min()\n",
        "max_d= main_data['Power (W)'].max()"
      ],
      "metadata": {
        "id": "gcwuEs14QfuC"
      },
      "execution_count": null,
      "outputs": []
    },
    {
      "cell_type": "code",
      "source": [
        "main_data[\"Power (W)\"].describe()"
      ],
      "metadata": {
        "colab": {
          "base_uri": "https://localhost:8080/"
        },
        "id": "X5G6_qGtQifJ",
        "outputId": "09f3c536-55d6-4dd5-ab2d-419ce2036b13"
      },
      "execution_count": null,
      "outputs": [
        {
          "output_type": "execute_result",
          "data": {
            "text/plain": [
              "count    1560.000000\n",
              "mean      454.086712\n",
              "std       281.076532\n",
              "min         0.000000\n",
              "25%       261.329167\n",
              "50%       409.058333\n",
              "75%       608.833333\n",
              "max      3773.200000\n",
              "Name: Power (W), dtype: float64"
            ]
          },
          "metadata": {},
          "execution_count": 27
        }
      ]
    },
    {
      "cell_type": "code",
      "source": [
        "main_data.describe()"
      ],
      "metadata": {
        "colab": {
          "base_uri": "https://localhost:8080/",
          "height": 300
        },
        "id": "7Vt6H6ZVqYC5",
        "outputId": "595d238f-20bf-477c-968d-e47241a86b47"
      },
      "execution_count": null,
      "outputs": [
        {
          "output_type": "execute_result",
          "data": {
            "text/plain": [
              "       Air Temp (degC)  Panel Temp (degC)  Array Voltage (V)  \\\n",
              "count      1560.000000        1560.000000        1560.000000   \n",
              "mean         20.579947          37.100720          35.280143   \n",
              "std           7.241547          17.870657          30.900237   \n",
              "min          12.603184          21.924614           1.483992   \n",
              "25%          15.863570          24.840454           2.189533   \n",
              "50%          17.553780          27.048828          51.595314   \n",
              "75%          22.165889          44.446407          56.084893   \n",
              "max          42.781088          96.081104          89.599624   \n",
              "\n",
              "       Array Current (A)  Solar Radiation (W/m2)    Power (W)  \n",
              "count        1560.000000             1560.000000  1560.000000  \n",
              "mean            5.392403                0.856112   454.086712  \n",
              "std             0.010184                0.547043   281.076532  \n",
              "min             5.369065                0.082000     0.000000  \n",
              "25%             5.384925                0.375457   261.329167  \n",
              "50%             5.397225                0.710785   409.058333  \n",
              "75%             5.400489                1.214300   608.833333  \n",
              "max             5.404922                2.142000  3773.200000  "
            ],
            "text/html": [
              "\n",
              "  <div id=\"df-49d370d2-522a-41d3-a052-8c7189a78b42\">\n",
              "    <div class=\"colab-df-container\">\n",
              "      <div>\n",
              "<style scoped>\n",
              "    .dataframe tbody tr th:only-of-type {\n",
              "        vertical-align: middle;\n",
              "    }\n",
              "\n",
              "    .dataframe tbody tr th {\n",
              "        vertical-align: top;\n",
              "    }\n",
              "\n",
              "    .dataframe thead th {\n",
              "        text-align: right;\n",
              "    }\n",
              "</style>\n",
              "<table border=\"1\" class=\"dataframe\">\n",
              "  <thead>\n",
              "    <tr style=\"text-align: right;\">\n",
              "      <th></th>\n",
              "      <th>Air Temp (degC)</th>\n",
              "      <th>Panel Temp (degC)</th>\n",
              "      <th>Array Voltage (V)</th>\n",
              "      <th>Array Current (A)</th>\n",
              "      <th>Solar Radiation (W/m2)</th>\n",
              "      <th>Power (W)</th>\n",
              "    </tr>\n",
              "  </thead>\n",
              "  <tbody>\n",
              "    <tr>\n",
              "      <th>count</th>\n",
              "      <td>1560.000000</td>\n",
              "      <td>1560.000000</td>\n",
              "      <td>1560.000000</td>\n",
              "      <td>1560.000000</td>\n",
              "      <td>1560.000000</td>\n",
              "      <td>1560.000000</td>\n",
              "    </tr>\n",
              "    <tr>\n",
              "      <th>mean</th>\n",
              "      <td>20.579947</td>\n",
              "      <td>37.100720</td>\n",
              "      <td>35.280143</td>\n",
              "      <td>5.392403</td>\n",
              "      <td>0.856112</td>\n",
              "      <td>454.086712</td>\n",
              "    </tr>\n",
              "    <tr>\n",
              "      <th>std</th>\n",
              "      <td>7.241547</td>\n",
              "      <td>17.870657</td>\n",
              "      <td>30.900237</td>\n",
              "      <td>0.010184</td>\n",
              "      <td>0.547043</td>\n",
              "      <td>281.076532</td>\n",
              "    </tr>\n",
              "    <tr>\n",
              "      <th>min</th>\n",
              "      <td>12.603184</td>\n",
              "      <td>21.924614</td>\n",
              "      <td>1.483992</td>\n",
              "      <td>5.369065</td>\n",
              "      <td>0.082000</td>\n",
              "      <td>0.000000</td>\n",
              "    </tr>\n",
              "    <tr>\n",
              "      <th>25%</th>\n",
              "      <td>15.863570</td>\n",
              "      <td>24.840454</td>\n",
              "      <td>2.189533</td>\n",
              "      <td>5.384925</td>\n",
              "      <td>0.375457</td>\n",
              "      <td>261.329167</td>\n",
              "    </tr>\n",
              "    <tr>\n",
              "      <th>50%</th>\n",
              "      <td>17.553780</td>\n",
              "      <td>27.048828</td>\n",
              "      <td>51.595314</td>\n",
              "      <td>5.397225</td>\n",
              "      <td>0.710785</td>\n",
              "      <td>409.058333</td>\n",
              "    </tr>\n",
              "    <tr>\n",
              "      <th>75%</th>\n",
              "      <td>22.165889</td>\n",
              "      <td>44.446407</td>\n",
              "      <td>56.084893</td>\n",
              "      <td>5.400489</td>\n",
              "      <td>1.214300</td>\n",
              "      <td>608.833333</td>\n",
              "    </tr>\n",
              "    <tr>\n",
              "      <th>max</th>\n",
              "      <td>42.781088</td>\n",
              "      <td>96.081104</td>\n",
              "      <td>89.599624</td>\n",
              "      <td>5.404922</td>\n",
              "      <td>2.142000</td>\n",
              "      <td>3773.200000</td>\n",
              "    </tr>\n",
              "  </tbody>\n",
              "</table>\n",
              "</div>\n",
              "      <button class=\"colab-df-convert\" onclick=\"convertToInteractive('df-49d370d2-522a-41d3-a052-8c7189a78b42')\"\n",
              "              title=\"Convert this dataframe to an interactive table.\"\n",
              "              style=\"display:none;\">\n",
              "        \n",
              "  <svg xmlns=\"http://www.w3.org/2000/svg\" height=\"24px\"viewBox=\"0 0 24 24\"\n",
              "       width=\"24px\">\n",
              "    <path d=\"M0 0h24v24H0V0z\" fill=\"none\"/>\n",
              "    <path d=\"M18.56 5.44l.94 2.06.94-2.06 2.06-.94-2.06-.94-.94-2.06-.94 2.06-2.06.94zm-11 1L8.5 8.5l.94-2.06 2.06-.94-2.06-.94L8.5 2.5l-.94 2.06-2.06.94zm10 10l.94 2.06.94-2.06 2.06-.94-2.06-.94-.94-2.06-.94 2.06-2.06.94z\"/><path d=\"M17.41 7.96l-1.37-1.37c-.4-.4-.92-.59-1.43-.59-.52 0-1.04.2-1.43.59L10.3 9.45l-7.72 7.72c-.78.78-.78 2.05 0 2.83L4 21.41c.39.39.9.59 1.41.59.51 0 1.02-.2 1.41-.59l7.78-7.78 2.81-2.81c.8-.78.8-2.07 0-2.86zM5.41 20L4 18.59l7.72-7.72 1.47 1.35L5.41 20z\"/>\n",
              "  </svg>\n",
              "      </button>\n",
              "      \n",
              "  <style>\n",
              "    .colab-df-container {\n",
              "      display:flex;\n",
              "      flex-wrap:wrap;\n",
              "      gap: 12px;\n",
              "    }\n",
              "\n",
              "    .colab-df-convert {\n",
              "      background-color: #E8F0FE;\n",
              "      border: none;\n",
              "      border-radius: 50%;\n",
              "      cursor: pointer;\n",
              "      display: none;\n",
              "      fill: #1967D2;\n",
              "      height: 32px;\n",
              "      padding: 0 0 0 0;\n",
              "      width: 32px;\n",
              "    }\n",
              "\n",
              "    .colab-df-convert:hover {\n",
              "      background-color: #E2EBFA;\n",
              "      box-shadow: 0px 1px 2px rgba(60, 64, 67, 0.3), 0px 1px 3px 1px rgba(60, 64, 67, 0.15);\n",
              "      fill: #174EA6;\n",
              "    }\n",
              "\n",
              "    [theme=dark] .colab-df-convert {\n",
              "      background-color: #3B4455;\n",
              "      fill: #D2E3FC;\n",
              "    }\n",
              "\n",
              "    [theme=dark] .colab-df-convert:hover {\n",
              "      background-color: #434B5C;\n",
              "      box-shadow: 0px 1px 3px 1px rgba(0, 0, 0, 0.15);\n",
              "      filter: drop-shadow(0px 1px 2px rgba(0, 0, 0, 0.3));\n",
              "      fill: #FFFFFF;\n",
              "    }\n",
              "  </style>\n",
              "\n",
              "      <script>\n",
              "        const buttonEl =\n",
              "          document.querySelector('#df-49d370d2-522a-41d3-a052-8c7189a78b42 button.colab-df-convert');\n",
              "        buttonEl.style.display =\n",
              "          google.colab.kernel.accessAllowed ? 'block' : 'none';\n",
              "\n",
              "        async function convertToInteractive(key) {\n",
              "          const element = document.querySelector('#df-49d370d2-522a-41d3-a052-8c7189a78b42');\n",
              "          const dataTable =\n",
              "            await google.colab.kernel.invokeFunction('convertToInteractive',\n",
              "                                                     [key], {});\n",
              "          if (!dataTable) return;\n",
              "\n",
              "          const docLinkHtml = 'Like what you see? Visit the ' +\n",
              "            '<a target=\"_blank\" href=https://colab.research.google.com/notebooks/data_table.ipynb>data table notebook</a>'\n",
              "            + ' to learn more about interactive tables.';\n",
              "          element.innerHTML = '';\n",
              "          dataTable['output_type'] = 'display_data';\n",
              "          await google.colab.output.renderOutput(dataTable, element);\n",
              "          const docLink = document.createElement('div');\n",
              "          docLink.innerHTML = docLinkHtml;\n",
              "          element.appendChild(docLink);\n",
              "        }\n",
              "      </script>\n",
              "    </div>\n",
              "  </div>\n",
              "  "
            ]
          },
          "metadata": {},
          "execution_count": 28
        }
      ]
    },
    {
      "cell_type": "code",
      "source": [
        "min_d"
      ],
      "metadata": {
        "id": "0ccmJ0m2lMHj",
        "colab": {
          "base_uri": "https://localhost:8080/"
        },
        "outputId": "71f4e3e1-47d4-47b7-bf26-6f5fc6ee2bd7"
      },
      "execution_count": null,
      "outputs": [
        {
          "output_type": "execute_result",
          "data": {
            "text/plain": [
              "0.0"
            ]
          },
          "metadata": {},
          "execution_count": 29
        }
      ]
    },
    {
      "cell_type": "code",
      "source": [
        "max_d"
      ],
      "metadata": {
        "id": "79DKM9EOlMFU",
        "colab": {
          "base_uri": "https://localhost:8080/"
        },
        "outputId": "7319bed6-82f8-4661-c7c7-446f47b4deba"
      },
      "execution_count": null,
      "outputs": [
        {
          "output_type": "execute_result",
          "data": {
            "text/plain": [
              "3773.2"
            ]
          },
          "metadata": {},
          "execution_count": 30
        }
      ]
    },
    {
      "cell_type": "code",
      "source": [
        "copyof_main_data = main_data"
      ],
      "metadata": {
        "id": "h6GZmzGrlMDG"
      },
      "execution_count": null,
      "outputs": []
    },
    {
      "cell_type": "code",
      "source": [],
      "metadata": {
        "id": "L8L1oKu5lMA6"
      },
      "execution_count": null,
      "outputs": []
    },
    {
      "cell_type": "markdown",
      "source": [
        "# Normalizing the values"
      ],
      "metadata": {
        "id": "Pv3Otk_yijyW"
      }
    },
    {
      "cell_type": "code",
      "source": [
        "from sklearn import preprocessing\n",
        "from sklearn.preprocessing import MinMaxScaler\n",
        "scaler= MinMaxScaler()\n",
        "\n",
        "numericals = ['Air Temp (degC)','Wind Speed (cm/s)','Panel Temp (degC)','Array Voltage (V)','Array Current (A)','Solar Radiation (W/m2)','Power (W)']\n",
        "\n",
        "main_data[numericals] = scaler.fit_transform(main_data[numericals])"
      ],
      "metadata": {
        "id": "4osgK7AfZt5A",
        "colab": {
          "base_uri": "https://localhost:8080/"
        },
        "outputId": "238edb8e-0ecc-44c4-b5f2-c624b2182d93"
      },
      "execution_count": null,
      "outputs": [
        {
          "output_type": "stream",
          "name": "stderr",
          "text": [
            "/usr/local/lib/python3.7/dist-packages/pandas/core/frame.py:3678: SettingWithCopyWarning: \n",
            "A value is trying to be set on a copy of a slice from a DataFrame.\n",
            "Try using .loc[row_indexer,col_indexer] = value instead\n",
            "\n",
            "See the caveats in the documentation: https://pandas.pydata.org/pandas-docs/stable/user_guide/indexing.html#returning-a-view-versus-a-copy\n",
            "  self[col] = igetitem(value, i)\n"
          ]
        }
      ]
    },
    {
      "cell_type": "code",
      "source": [
        "main_data.head(100)"
      ],
      "metadata": {
        "colab": {
          "base_uri": "https://localhost:8080/",
          "height": 424
        },
        "id": "KzZPCT5ZdZGx",
        "outputId": "f32f4a13-5fdb-46d1-8ffe-631860990122"
      },
      "execution_count": null,
      "outputs": [
        {
          "output_type": "execute_result",
          "data": {
            "text/plain": [
              "    Air Temp (degC)  Wind Speed (cm/s)  Panel Temp (degC)  Array Voltage (V)  \\\n",
              "0          0.123692           0.322073           0.043082           0.013128   \n",
              "1          0.122157           0.219699           0.042053           0.013186   \n",
              "2          0.122026           0.166088           0.041883           0.013350   \n",
              "3          0.121895           0.316537           0.042772           0.007541   \n",
              "4          0.120667           0.272841           0.042292           0.006606   \n",
              "..              ...                ...                ...                ...   \n",
              "95         0.158132           0.231149           0.148051           0.606026   \n",
              "96         0.154948           0.100245           0.122813           0.598623   \n",
              "97         0.137817           0.272844           0.150304           0.611844   \n",
              "98         0.124816           0.191123           0.152381           0.618948   \n",
              "99         0.131699           0.223792           0.157172           0.622744   \n",
              "\n",
              "    Array Current (A)  Solar Radiation (W/m2)  Power (W)  \n",
              "0            0.842876                0.000000   0.078483  \n",
              "1            0.835318                0.008252   0.065157  \n",
              "2            0.832780                0.033010   0.077308  \n",
              "3            0.840338                0.063107   0.050483  \n",
              "4            0.835318                0.089806   0.072829  \n",
              "..                ...                     ...        ...  \n",
              "95           0.922777                0.439218   0.127646  \n",
              "96           0.902362                0.424665   0.120662  \n",
              "97           0.877179                0.413592   0.117089  \n",
              "98           0.879717                0.447864   0.117138  \n",
              "99           0.879717                0.492136   0.154961  \n",
              "\n",
              "[100 rows x 7 columns]"
            ],
            "text/html": [
              "\n",
              "  <div id=\"df-4b5c1bad-bebd-4914-8681-76997de8c420\">\n",
              "    <div class=\"colab-df-container\">\n",
              "      <div>\n",
              "<style scoped>\n",
              "    .dataframe tbody tr th:only-of-type {\n",
              "        vertical-align: middle;\n",
              "    }\n",
              "\n",
              "    .dataframe tbody tr th {\n",
              "        vertical-align: top;\n",
              "    }\n",
              "\n",
              "    .dataframe thead th {\n",
              "        text-align: right;\n",
              "    }\n",
              "</style>\n",
              "<table border=\"1\" class=\"dataframe\">\n",
              "  <thead>\n",
              "    <tr style=\"text-align: right;\">\n",
              "      <th></th>\n",
              "      <th>Air Temp (degC)</th>\n",
              "      <th>Wind Speed (cm/s)</th>\n",
              "      <th>Panel Temp (degC)</th>\n",
              "      <th>Array Voltage (V)</th>\n",
              "      <th>Array Current (A)</th>\n",
              "      <th>Solar Radiation (W/m2)</th>\n",
              "      <th>Power (W)</th>\n",
              "    </tr>\n",
              "  </thead>\n",
              "  <tbody>\n",
              "    <tr>\n",
              "      <th>0</th>\n",
              "      <td>0.123692</td>\n",
              "      <td>0.322073</td>\n",
              "      <td>0.043082</td>\n",
              "      <td>0.013128</td>\n",
              "      <td>0.842876</td>\n",
              "      <td>0.000000</td>\n",
              "      <td>0.078483</td>\n",
              "    </tr>\n",
              "    <tr>\n",
              "      <th>1</th>\n",
              "      <td>0.122157</td>\n",
              "      <td>0.219699</td>\n",
              "      <td>0.042053</td>\n",
              "      <td>0.013186</td>\n",
              "      <td>0.835318</td>\n",
              "      <td>0.008252</td>\n",
              "      <td>0.065157</td>\n",
              "    </tr>\n",
              "    <tr>\n",
              "      <th>2</th>\n",
              "      <td>0.122026</td>\n",
              "      <td>0.166088</td>\n",
              "      <td>0.041883</td>\n",
              "      <td>0.013350</td>\n",
              "      <td>0.832780</td>\n",
              "      <td>0.033010</td>\n",
              "      <td>0.077308</td>\n",
              "    </tr>\n",
              "    <tr>\n",
              "      <th>3</th>\n",
              "      <td>0.121895</td>\n",
              "      <td>0.316537</td>\n",
              "      <td>0.042772</td>\n",
              "      <td>0.007541</td>\n",
              "      <td>0.840338</td>\n",
              "      <td>0.063107</td>\n",
              "      <td>0.050483</td>\n",
              "    </tr>\n",
              "    <tr>\n",
              "      <th>4</th>\n",
              "      <td>0.120667</td>\n",
              "      <td>0.272841</td>\n",
              "      <td>0.042292</td>\n",
              "      <td>0.006606</td>\n",
              "      <td>0.835318</td>\n",
              "      <td>0.089806</td>\n",
              "      <td>0.072829</td>\n",
              "    </tr>\n",
              "    <tr>\n",
              "      <th>...</th>\n",
              "      <td>...</td>\n",
              "      <td>...</td>\n",
              "      <td>...</td>\n",
              "      <td>...</td>\n",
              "      <td>...</td>\n",
              "      <td>...</td>\n",
              "      <td>...</td>\n",
              "    </tr>\n",
              "    <tr>\n",
              "      <th>95</th>\n",
              "      <td>0.158132</td>\n",
              "      <td>0.231149</td>\n",
              "      <td>0.148051</td>\n",
              "      <td>0.606026</td>\n",
              "      <td>0.922777</td>\n",
              "      <td>0.439218</td>\n",
              "      <td>0.127646</td>\n",
              "    </tr>\n",
              "    <tr>\n",
              "      <th>96</th>\n",
              "      <td>0.154948</td>\n",
              "      <td>0.100245</td>\n",
              "      <td>0.122813</td>\n",
              "      <td>0.598623</td>\n",
              "      <td>0.902362</td>\n",
              "      <td>0.424665</td>\n",
              "      <td>0.120662</td>\n",
              "    </tr>\n",
              "    <tr>\n",
              "      <th>97</th>\n",
              "      <td>0.137817</td>\n",
              "      <td>0.272844</td>\n",
              "      <td>0.150304</td>\n",
              "      <td>0.611844</td>\n",
              "      <td>0.877179</td>\n",
              "      <td>0.413592</td>\n",
              "      <td>0.117089</td>\n",
              "    </tr>\n",
              "    <tr>\n",
              "      <th>98</th>\n",
              "      <td>0.124816</td>\n",
              "      <td>0.191123</td>\n",
              "      <td>0.152381</td>\n",
              "      <td>0.618948</td>\n",
              "      <td>0.879717</td>\n",
              "      <td>0.447864</td>\n",
              "      <td>0.117138</td>\n",
              "    </tr>\n",
              "    <tr>\n",
              "      <th>99</th>\n",
              "      <td>0.131699</td>\n",
              "      <td>0.223792</td>\n",
              "      <td>0.157172</td>\n",
              "      <td>0.622744</td>\n",
              "      <td>0.879717</td>\n",
              "      <td>0.492136</td>\n",
              "      <td>0.154961</td>\n",
              "    </tr>\n",
              "  </tbody>\n",
              "</table>\n",
              "<p>100 rows × 7 columns</p>\n",
              "</div>\n",
              "      <button class=\"colab-df-convert\" onclick=\"convertToInteractive('df-4b5c1bad-bebd-4914-8681-76997de8c420')\"\n",
              "              title=\"Convert this dataframe to an interactive table.\"\n",
              "              style=\"display:none;\">\n",
              "        \n",
              "  <svg xmlns=\"http://www.w3.org/2000/svg\" height=\"24px\"viewBox=\"0 0 24 24\"\n",
              "       width=\"24px\">\n",
              "    <path d=\"M0 0h24v24H0V0z\" fill=\"none\"/>\n",
              "    <path d=\"M18.56 5.44l.94 2.06.94-2.06 2.06-.94-2.06-.94-.94-2.06-.94 2.06-2.06.94zm-11 1L8.5 8.5l.94-2.06 2.06-.94-2.06-.94L8.5 2.5l-.94 2.06-2.06.94zm10 10l.94 2.06.94-2.06 2.06-.94-2.06-.94-.94-2.06-.94 2.06-2.06.94z\"/><path d=\"M17.41 7.96l-1.37-1.37c-.4-.4-.92-.59-1.43-.59-.52 0-1.04.2-1.43.59L10.3 9.45l-7.72 7.72c-.78.78-.78 2.05 0 2.83L4 21.41c.39.39.9.59 1.41.59.51 0 1.02-.2 1.41-.59l7.78-7.78 2.81-2.81c.8-.78.8-2.07 0-2.86zM5.41 20L4 18.59l7.72-7.72 1.47 1.35L5.41 20z\"/>\n",
              "  </svg>\n",
              "      </button>\n",
              "      \n",
              "  <style>\n",
              "    .colab-df-container {\n",
              "      display:flex;\n",
              "      flex-wrap:wrap;\n",
              "      gap: 12px;\n",
              "    }\n",
              "\n",
              "    .colab-df-convert {\n",
              "      background-color: #E8F0FE;\n",
              "      border: none;\n",
              "      border-radius: 50%;\n",
              "      cursor: pointer;\n",
              "      display: none;\n",
              "      fill: #1967D2;\n",
              "      height: 32px;\n",
              "      padding: 0 0 0 0;\n",
              "      width: 32px;\n",
              "    }\n",
              "\n",
              "    .colab-df-convert:hover {\n",
              "      background-color: #E2EBFA;\n",
              "      box-shadow: 0px 1px 2px rgba(60, 64, 67, 0.3), 0px 1px 3px 1px rgba(60, 64, 67, 0.15);\n",
              "      fill: #174EA6;\n",
              "    }\n",
              "\n",
              "    [theme=dark] .colab-df-convert {\n",
              "      background-color: #3B4455;\n",
              "      fill: #D2E3FC;\n",
              "    }\n",
              "\n",
              "    [theme=dark] .colab-df-convert:hover {\n",
              "      background-color: #434B5C;\n",
              "      box-shadow: 0px 1px 3px 1px rgba(0, 0, 0, 0.15);\n",
              "      filter: drop-shadow(0px 1px 2px rgba(0, 0, 0, 0.3));\n",
              "      fill: #FFFFFF;\n",
              "    }\n",
              "  </style>\n",
              "\n",
              "      <script>\n",
              "        const buttonEl =\n",
              "          document.querySelector('#df-4b5c1bad-bebd-4914-8681-76997de8c420 button.colab-df-convert');\n",
              "        buttonEl.style.display =\n",
              "          google.colab.kernel.accessAllowed ? 'block' : 'none';\n",
              "\n",
              "        async function convertToInteractive(key) {\n",
              "          const element = document.querySelector('#df-4b5c1bad-bebd-4914-8681-76997de8c420');\n",
              "          const dataTable =\n",
              "            await google.colab.kernel.invokeFunction('convertToInteractive',\n",
              "                                                     [key], {});\n",
              "          if (!dataTable) return;\n",
              "\n",
              "          const docLinkHtml = 'Like what you see? Visit the ' +\n",
              "            '<a target=\"_blank\" href=https://colab.research.google.com/notebooks/data_table.ipynb>data table notebook</a>'\n",
              "            + ' to learn more about interactive tables.';\n",
              "          element.innerHTML = '';\n",
              "          dataTable['output_type'] = 'display_data';\n",
              "          await google.colab.output.renderOutput(dataTable, element);\n",
              "          const docLink = document.createElement('div');\n",
              "          docLink.innerHTML = docLinkHtml;\n",
              "          element.appendChild(docLink);\n",
              "        }\n",
              "      </script>\n",
              "    </div>\n",
              "  </div>\n",
              "  "
            ]
          },
          "metadata": {},
          "execution_count": 33
        }
      ]
    },
    {
      "cell_type": "code",
      "source": [
        "main_data.tail(10)"
      ],
      "metadata": {
        "colab": {
          "base_uri": "https://localhost:8080/",
          "height": 363
        },
        "id": "OLfDWjkvg4x7",
        "outputId": "fb92754a-77f1-4f10-d5d0-b5cae7ba501a"
      },
      "execution_count": null,
      "outputs": [
        {
          "output_type": "execute_result",
          "data": {
            "text/plain": [
              "      Air Temp (degC)  Wind Speed (cm/s)  Panel Temp (degC)  \\\n",
              "1551         0.301738           0.855358           0.373280   \n",
              "1552         0.311472           0.629668           0.405147   \n",
              "1553         0.366986           0.555359           0.451403   \n",
              "1554         0.312981           0.476314           0.387185   \n",
              "1555         0.305906           0.955571           0.401988   \n",
              "1556         0.317843           0.589989           0.349752   \n",
              "1557         0.304389           0.704017           0.311312   \n",
              "1558         0.304166           0.034745           0.352099   \n",
              "1559         0.397444           0.681415           0.416670   \n",
              "1560         0.357258           0.778724           0.480587   \n",
              "\n",
              "      Array Voltage (V)  Array Current (A)  Solar Radiation (W/m2)  Power (W)  \n",
              "1551           0.658618           0.424966                0.050087   0.126802  \n",
              "1552           0.688729           0.439942                0.050044   0.127646  \n",
              "1553           0.706676           0.348802                0.048752   0.120662  \n",
              "1554           0.668887           0.354910                0.048267   0.117089  \n",
              "1555           0.703729           0.342332                0.047422   0.117138  \n",
              "1556           0.656362           0.328527                0.045631   0.154961  \n",
              "1557           0.649344           0.358758                0.045403   0.128251  \n",
              "1558           0.666106           0.346153                0.044714   0.128233  \n",
              "1559           0.710525           0.287392                0.044519   0.128507  \n",
              "1560           0.735798           0.272443                0.043214   0.130402  "
            ],
            "text/html": [
              "\n",
              "  <div id=\"df-7daf0d15-393e-4885-aaec-a8fa5ac6333b\">\n",
              "    <div class=\"colab-df-container\">\n",
              "      <div>\n",
              "<style scoped>\n",
              "    .dataframe tbody tr th:only-of-type {\n",
              "        vertical-align: middle;\n",
              "    }\n",
              "\n",
              "    .dataframe tbody tr th {\n",
              "        vertical-align: top;\n",
              "    }\n",
              "\n",
              "    .dataframe thead th {\n",
              "        text-align: right;\n",
              "    }\n",
              "</style>\n",
              "<table border=\"1\" class=\"dataframe\">\n",
              "  <thead>\n",
              "    <tr style=\"text-align: right;\">\n",
              "      <th></th>\n",
              "      <th>Air Temp (degC)</th>\n",
              "      <th>Wind Speed (cm/s)</th>\n",
              "      <th>Panel Temp (degC)</th>\n",
              "      <th>Array Voltage (V)</th>\n",
              "      <th>Array Current (A)</th>\n",
              "      <th>Solar Radiation (W/m2)</th>\n",
              "      <th>Power (W)</th>\n",
              "    </tr>\n",
              "  </thead>\n",
              "  <tbody>\n",
              "    <tr>\n",
              "      <th>1551</th>\n",
              "      <td>0.301738</td>\n",
              "      <td>0.855358</td>\n",
              "      <td>0.373280</td>\n",
              "      <td>0.658618</td>\n",
              "      <td>0.424966</td>\n",
              "      <td>0.050087</td>\n",
              "      <td>0.126802</td>\n",
              "    </tr>\n",
              "    <tr>\n",
              "      <th>1552</th>\n",
              "      <td>0.311472</td>\n",
              "      <td>0.629668</td>\n",
              "      <td>0.405147</td>\n",
              "      <td>0.688729</td>\n",
              "      <td>0.439942</td>\n",
              "      <td>0.050044</td>\n",
              "      <td>0.127646</td>\n",
              "    </tr>\n",
              "    <tr>\n",
              "      <th>1553</th>\n",
              "      <td>0.366986</td>\n",
              "      <td>0.555359</td>\n",
              "      <td>0.451403</td>\n",
              "      <td>0.706676</td>\n",
              "      <td>0.348802</td>\n",
              "      <td>0.048752</td>\n",
              "      <td>0.120662</td>\n",
              "    </tr>\n",
              "    <tr>\n",
              "      <th>1554</th>\n",
              "      <td>0.312981</td>\n",
              "      <td>0.476314</td>\n",
              "      <td>0.387185</td>\n",
              "      <td>0.668887</td>\n",
              "      <td>0.354910</td>\n",
              "      <td>0.048267</td>\n",
              "      <td>0.117089</td>\n",
              "    </tr>\n",
              "    <tr>\n",
              "      <th>1555</th>\n",
              "      <td>0.305906</td>\n",
              "      <td>0.955571</td>\n",
              "      <td>0.401988</td>\n",
              "      <td>0.703729</td>\n",
              "      <td>0.342332</td>\n",
              "      <td>0.047422</td>\n",
              "      <td>0.117138</td>\n",
              "    </tr>\n",
              "    <tr>\n",
              "      <th>1556</th>\n",
              "      <td>0.317843</td>\n",
              "      <td>0.589989</td>\n",
              "      <td>0.349752</td>\n",
              "      <td>0.656362</td>\n",
              "      <td>0.328527</td>\n",
              "      <td>0.045631</td>\n",
              "      <td>0.154961</td>\n",
              "    </tr>\n",
              "    <tr>\n",
              "      <th>1557</th>\n",
              "      <td>0.304389</td>\n",
              "      <td>0.704017</td>\n",
              "      <td>0.311312</td>\n",
              "      <td>0.649344</td>\n",
              "      <td>0.358758</td>\n",
              "      <td>0.045403</td>\n",
              "      <td>0.128251</td>\n",
              "    </tr>\n",
              "    <tr>\n",
              "      <th>1558</th>\n",
              "      <td>0.304166</td>\n",
              "      <td>0.034745</td>\n",
              "      <td>0.352099</td>\n",
              "      <td>0.666106</td>\n",
              "      <td>0.346153</td>\n",
              "      <td>0.044714</td>\n",
              "      <td>0.128233</td>\n",
              "    </tr>\n",
              "    <tr>\n",
              "      <th>1559</th>\n",
              "      <td>0.397444</td>\n",
              "      <td>0.681415</td>\n",
              "      <td>0.416670</td>\n",
              "      <td>0.710525</td>\n",
              "      <td>0.287392</td>\n",
              "      <td>0.044519</td>\n",
              "      <td>0.128507</td>\n",
              "    </tr>\n",
              "    <tr>\n",
              "      <th>1560</th>\n",
              "      <td>0.357258</td>\n",
              "      <td>0.778724</td>\n",
              "      <td>0.480587</td>\n",
              "      <td>0.735798</td>\n",
              "      <td>0.272443</td>\n",
              "      <td>0.043214</td>\n",
              "      <td>0.130402</td>\n",
              "    </tr>\n",
              "  </tbody>\n",
              "</table>\n",
              "</div>\n",
              "      <button class=\"colab-df-convert\" onclick=\"convertToInteractive('df-7daf0d15-393e-4885-aaec-a8fa5ac6333b')\"\n",
              "              title=\"Convert this dataframe to an interactive table.\"\n",
              "              style=\"display:none;\">\n",
              "        \n",
              "  <svg xmlns=\"http://www.w3.org/2000/svg\" height=\"24px\"viewBox=\"0 0 24 24\"\n",
              "       width=\"24px\">\n",
              "    <path d=\"M0 0h24v24H0V0z\" fill=\"none\"/>\n",
              "    <path d=\"M18.56 5.44l.94 2.06.94-2.06 2.06-.94-2.06-.94-.94-2.06-.94 2.06-2.06.94zm-11 1L8.5 8.5l.94-2.06 2.06-.94-2.06-.94L8.5 2.5l-.94 2.06-2.06.94zm10 10l.94 2.06.94-2.06 2.06-.94-2.06-.94-.94-2.06-.94 2.06-2.06.94z\"/><path d=\"M17.41 7.96l-1.37-1.37c-.4-.4-.92-.59-1.43-.59-.52 0-1.04.2-1.43.59L10.3 9.45l-7.72 7.72c-.78.78-.78 2.05 0 2.83L4 21.41c.39.39.9.59 1.41.59.51 0 1.02-.2 1.41-.59l7.78-7.78 2.81-2.81c.8-.78.8-2.07 0-2.86zM5.41 20L4 18.59l7.72-7.72 1.47 1.35L5.41 20z\"/>\n",
              "  </svg>\n",
              "      </button>\n",
              "      \n",
              "  <style>\n",
              "    .colab-df-container {\n",
              "      display:flex;\n",
              "      flex-wrap:wrap;\n",
              "      gap: 12px;\n",
              "    }\n",
              "\n",
              "    .colab-df-convert {\n",
              "      background-color: #E8F0FE;\n",
              "      border: none;\n",
              "      border-radius: 50%;\n",
              "      cursor: pointer;\n",
              "      display: none;\n",
              "      fill: #1967D2;\n",
              "      height: 32px;\n",
              "      padding: 0 0 0 0;\n",
              "      width: 32px;\n",
              "    }\n",
              "\n",
              "    .colab-df-convert:hover {\n",
              "      background-color: #E2EBFA;\n",
              "      box-shadow: 0px 1px 2px rgba(60, 64, 67, 0.3), 0px 1px 3px 1px rgba(60, 64, 67, 0.15);\n",
              "      fill: #174EA6;\n",
              "    }\n",
              "\n",
              "    [theme=dark] .colab-df-convert {\n",
              "      background-color: #3B4455;\n",
              "      fill: #D2E3FC;\n",
              "    }\n",
              "\n",
              "    [theme=dark] .colab-df-convert:hover {\n",
              "      background-color: #434B5C;\n",
              "      box-shadow: 0px 1px 3px 1px rgba(0, 0, 0, 0.15);\n",
              "      filter: drop-shadow(0px 1px 2px rgba(0, 0, 0, 0.3));\n",
              "      fill: #FFFFFF;\n",
              "    }\n",
              "  </style>\n",
              "\n",
              "      <script>\n",
              "        const buttonEl =\n",
              "          document.querySelector('#df-7daf0d15-393e-4885-aaec-a8fa5ac6333b button.colab-df-convert');\n",
              "        buttonEl.style.display =\n",
              "          google.colab.kernel.accessAllowed ? 'block' : 'none';\n",
              "\n",
              "        async function convertToInteractive(key) {\n",
              "          const element = document.querySelector('#df-7daf0d15-393e-4885-aaec-a8fa5ac6333b');\n",
              "          const dataTable =\n",
              "            await google.colab.kernel.invokeFunction('convertToInteractive',\n",
              "                                                     [key], {});\n",
              "          if (!dataTable) return;\n",
              "\n",
              "          const docLinkHtml = 'Like what you see? Visit the ' +\n",
              "            '<a target=\"_blank\" href=https://colab.research.google.com/notebooks/data_table.ipynb>data table notebook</a>'\n",
              "            + ' to learn more about interactive tables.';\n",
              "          element.innerHTML = '';\n",
              "          dataTable['output_type'] = 'display_data';\n",
              "          await google.colab.output.renderOutput(dataTable, element);\n",
              "          const docLink = document.createElement('div');\n",
              "          docLink.innerHTML = docLinkHtml;\n",
              "          element.appendChild(docLink);\n",
              "        }\n",
              "      </script>\n",
              "    </div>\n",
              "  </div>\n",
              "  "
            ]
          },
          "metadata": {},
          "execution_count": 34
        }
      ]
    },
    {
      "cell_type": "code",
      "source": [
        "main_data.shape"
      ],
      "metadata": {
        "colab": {
          "base_uri": "https://localhost:8080/"
        },
        "id": "-yFM6yN2nf-Y",
        "outputId": "d067e1e4-6485-4255-a78c-d34c707410db"
      },
      "execution_count": null,
      "outputs": [
        {
          "output_type": "execute_result",
          "data": {
            "text/plain": [
              "(1560, 7)"
            ]
          },
          "metadata": {},
          "execution_count": 35
        }
      ]
    },
    {
      "cell_type": "code",
      "source": [
        "main_data.describe()"
      ],
      "metadata": {
        "colab": {
          "base_uri": "https://localhost:8080/",
          "height": 300
        },
        "id": "4oi8HxmdnZUZ",
        "outputId": "6742d5dd-633b-42c1-8a20-5b9971e6318c"
      },
      "execution_count": null,
      "outputs": [
        {
          "output_type": "execute_result",
          "data": {
            "text/plain": [
              "       Air Temp (degC)  Wind Speed (cm/s)  Panel Temp (degC)  \\\n",
              "count      1560.000000        1560.000000        1560.000000   \n",
              "mean          0.264325           0.533524           0.204650   \n",
              "std           0.239962           0.235034           0.240986   \n",
              "min           0.000000           0.000000           0.000000   \n",
              "25%           0.108039           0.323416           0.039320   \n",
              "50%           0.164047           0.575917           0.069100   \n",
              "75%           0.316878           0.697981           0.303706   \n",
              "max           1.000000           1.000000           1.000000   \n",
              "\n",
              "       Array Voltage (V)  Array Current (A)  Solar Radiation (W/m2)  \\\n",
              "count        1560.000000        1560.000000             1560.000000   \n",
              "mean            0.383543           0.650852                0.375782   \n",
              "std             0.350678           0.284029                0.265555   \n",
              "min             0.000000           0.000000                0.000000   \n",
              "25%             0.008007           0.442326                0.142455   \n",
              "50%             0.568700           0.785342                0.305235   \n",
              "75%             0.619651           0.876370                0.549660   \n",
              "max             1.000000           1.000000                1.000000   \n",
              "\n",
              "         Power (W)  \n",
              "count  1560.000000  \n",
              "mean      0.120345  \n",
              "std       0.074493  \n",
              "min       0.000000  \n",
              "25%       0.069259  \n",
              "50%       0.108412  \n",
              "75%       0.161357  \n",
              "max       1.000000  "
            ],
            "text/html": [
              "\n",
              "  <div id=\"df-f3cd8435-7794-44ab-8958-a8ba4d2ab179\">\n",
              "    <div class=\"colab-df-container\">\n",
              "      <div>\n",
              "<style scoped>\n",
              "    .dataframe tbody tr th:only-of-type {\n",
              "        vertical-align: middle;\n",
              "    }\n",
              "\n",
              "    .dataframe tbody tr th {\n",
              "        vertical-align: top;\n",
              "    }\n",
              "\n",
              "    .dataframe thead th {\n",
              "        text-align: right;\n",
              "    }\n",
              "</style>\n",
              "<table border=\"1\" class=\"dataframe\">\n",
              "  <thead>\n",
              "    <tr style=\"text-align: right;\">\n",
              "      <th></th>\n",
              "      <th>Air Temp (degC)</th>\n",
              "      <th>Wind Speed (cm/s)</th>\n",
              "      <th>Panel Temp (degC)</th>\n",
              "      <th>Array Voltage (V)</th>\n",
              "      <th>Array Current (A)</th>\n",
              "      <th>Solar Radiation (W/m2)</th>\n",
              "      <th>Power (W)</th>\n",
              "    </tr>\n",
              "  </thead>\n",
              "  <tbody>\n",
              "    <tr>\n",
              "      <th>count</th>\n",
              "      <td>1560.000000</td>\n",
              "      <td>1560.000000</td>\n",
              "      <td>1560.000000</td>\n",
              "      <td>1560.000000</td>\n",
              "      <td>1560.000000</td>\n",
              "      <td>1560.000000</td>\n",
              "      <td>1560.000000</td>\n",
              "    </tr>\n",
              "    <tr>\n",
              "      <th>mean</th>\n",
              "      <td>0.264325</td>\n",
              "      <td>0.533524</td>\n",
              "      <td>0.204650</td>\n",
              "      <td>0.383543</td>\n",
              "      <td>0.650852</td>\n",
              "      <td>0.375782</td>\n",
              "      <td>0.120345</td>\n",
              "    </tr>\n",
              "    <tr>\n",
              "      <th>std</th>\n",
              "      <td>0.239962</td>\n",
              "      <td>0.235034</td>\n",
              "      <td>0.240986</td>\n",
              "      <td>0.350678</td>\n",
              "      <td>0.284029</td>\n",
              "      <td>0.265555</td>\n",
              "      <td>0.074493</td>\n",
              "    </tr>\n",
              "    <tr>\n",
              "      <th>min</th>\n",
              "      <td>0.000000</td>\n",
              "      <td>0.000000</td>\n",
              "      <td>0.000000</td>\n",
              "      <td>0.000000</td>\n",
              "      <td>0.000000</td>\n",
              "      <td>0.000000</td>\n",
              "      <td>0.000000</td>\n",
              "    </tr>\n",
              "    <tr>\n",
              "      <th>25%</th>\n",
              "      <td>0.108039</td>\n",
              "      <td>0.323416</td>\n",
              "      <td>0.039320</td>\n",
              "      <td>0.008007</td>\n",
              "      <td>0.442326</td>\n",
              "      <td>0.142455</td>\n",
              "      <td>0.069259</td>\n",
              "    </tr>\n",
              "    <tr>\n",
              "      <th>50%</th>\n",
              "      <td>0.164047</td>\n",
              "      <td>0.575917</td>\n",
              "      <td>0.069100</td>\n",
              "      <td>0.568700</td>\n",
              "      <td>0.785342</td>\n",
              "      <td>0.305235</td>\n",
              "      <td>0.108412</td>\n",
              "    </tr>\n",
              "    <tr>\n",
              "      <th>75%</th>\n",
              "      <td>0.316878</td>\n",
              "      <td>0.697981</td>\n",
              "      <td>0.303706</td>\n",
              "      <td>0.619651</td>\n",
              "      <td>0.876370</td>\n",
              "      <td>0.549660</td>\n",
              "      <td>0.161357</td>\n",
              "    </tr>\n",
              "    <tr>\n",
              "      <th>max</th>\n",
              "      <td>1.000000</td>\n",
              "      <td>1.000000</td>\n",
              "      <td>1.000000</td>\n",
              "      <td>1.000000</td>\n",
              "      <td>1.000000</td>\n",
              "      <td>1.000000</td>\n",
              "      <td>1.000000</td>\n",
              "    </tr>\n",
              "  </tbody>\n",
              "</table>\n",
              "</div>\n",
              "      <button class=\"colab-df-convert\" onclick=\"convertToInteractive('df-f3cd8435-7794-44ab-8958-a8ba4d2ab179')\"\n",
              "              title=\"Convert this dataframe to an interactive table.\"\n",
              "              style=\"display:none;\">\n",
              "        \n",
              "  <svg xmlns=\"http://www.w3.org/2000/svg\" height=\"24px\"viewBox=\"0 0 24 24\"\n",
              "       width=\"24px\">\n",
              "    <path d=\"M0 0h24v24H0V0z\" fill=\"none\"/>\n",
              "    <path d=\"M18.56 5.44l.94 2.06.94-2.06 2.06-.94-2.06-.94-.94-2.06-.94 2.06-2.06.94zm-11 1L8.5 8.5l.94-2.06 2.06-.94-2.06-.94L8.5 2.5l-.94 2.06-2.06.94zm10 10l.94 2.06.94-2.06 2.06-.94-2.06-.94-.94-2.06-.94 2.06-2.06.94z\"/><path d=\"M17.41 7.96l-1.37-1.37c-.4-.4-.92-.59-1.43-.59-.52 0-1.04.2-1.43.59L10.3 9.45l-7.72 7.72c-.78.78-.78 2.05 0 2.83L4 21.41c.39.39.9.59 1.41.59.51 0 1.02-.2 1.41-.59l7.78-7.78 2.81-2.81c.8-.78.8-2.07 0-2.86zM5.41 20L4 18.59l7.72-7.72 1.47 1.35L5.41 20z\"/>\n",
              "  </svg>\n",
              "      </button>\n",
              "      \n",
              "  <style>\n",
              "    .colab-df-container {\n",
              "      display:flex;\n",
              "      flex-wrap:wrap;\n",
              "      gap: 12px;\n",
              "    }\n",
              "\n",
              "    .colab-df-convert {\n",
              "      background-color: #E8F0FE;\n",
              "      border: none;\n",
              "      border-radius: 50%;\n",
              "      cursor: pointer;\n",
              "      display: none;\n",
              "      fill: #1967D2;\n",
              "      height: 32px;\n",
              "      padding: 0 0 0 0;\n",
              "      width: 32px;\n",
              "    }\n",
              "\n",
              "    .colab-df-convert:hover {\n",
              "      background-color: #E2EBFA;\n",
              "      box-shadow: 0px 1px 2px rgba(60, 64, 67, 0.3), 0px 1px 3px 1px rgba(60, 64, 67, 0.15);\n",
              "      fill: #174EA6;\n",
              "    }\n",
              "\n",
              "    [theme=dark] .colab-df-convert {\n",
              "      background-color: #3B4455;\n",
              "      fill: #D2E3FC;\n",
              "    }\n",
              "\n",
              "    [theme=dark] .colab-df-convert:hover {\n",
              "      background-color: #434B5C;\n",
              "      box-shadow: 0px 1px 3px 1px rgba(0, 0, 0, 0.15);\n",
              "      filter: drop-shadow(0px 1px 2px rgba(0, 0, 0, 0.3));\n",
              "      fill: #FFFFFF;\n",
              "    }\n",
              "  </style>\n",
              "\n",
              "      <script>\n",
              "        const buttonEl =\n",
              "          document.querySelector('#df-f3cd8435-7794-44ab-8958-a8ba4d2ab179 button.colab-df-convert');\n",
              "        buttonEl.style.display =\n",
              "          google.colab.kernel.accessAllowed ? 'block' : 'none';\n",
              "\n",
              "        async function convertToInteractive(key) {\n",
              "          const element = document.querySelector('#df-f3cd8435-7794-44ab-8958-a8ba4d2ab179');\n",
              "          const dataTable =\n",
              "            await google.colab.kernel.invokeFunction('convertToInteractive',\n",
              "                                                     [key], {});\n",
              "          if (!dataTable) return;\n",
              "\n",
              "          const docLinkHtml = 'Like what you see? Visit the ' +\n",
              "            '<a target=\"_blank\" href=https://colab.research.google.com/notebooks/data_table.ipynb>data table notebook</a>'\n",
              "            + ' to learn more about interactive tables.';\n",
              "          element.innerHTML = '';\n",
              "          dataTable['output_type'] = 'display_data';\n",
              "          await google.colab.output.renderOutput(dataTable, element);\n",
              "          const docLink = document.createElement('div');\n",
              "          docLink.innerHTML = docLinkHtml;\n",
              "          element.appendChild(docLink);\n",
              "        }\n",
              "      </script>\n",
              "    </div>\n",
              "  </div>\n",
              "  "
            ]
          },
          "metadata": {},
          "execution_count": 36
        }
      ]
    },
    {
      "cell_type": "code",
      "source": [
        "main_data.info()"
      ],
      "metadata": {
        "colab": {
          "base_uri": "https://localhost:8080/"
        },
        "id": "ApbKURM6nk-Q",
        "outputId": "01649bf8-dccf-4de0-c15b-7635eebb070e"
      },
      "execution_count": null,
      "outputs": [
        {
          "output_type": "stream",
          "name": "stdout",
          "text": [
            "<class 'pandas.core.frame.DataFrame'>\n",
            "Int64Index: 1560 entries, 0 to 1560\n",
            "Data columns (total 7 columns):\n",
            " #   Column                  Non-Null Count  Dtype  \n",
            "---  ------                  --------------  -----  \n",
            " 0   Air Temp (degC)         1560 non-null   float64\n",
            " 1   Wind Speed (cm/s)       1560 non-null   float64\n",
            " 2   Panel Temp (degC)       1560 non-null   float64\n",
            " 3   Array Voltage (V)       1560 non-null   float64\n",
            " 4   Array Current (A)       1560 non-null   float64\n",
            " 5   Solar Radiation (W/m2)  1560 non-null   float64\n",
            " 6   Power (W)               1560 non-null   float64\n",
            "dtypes: float64(7)\n",
            "memory usage: 97.5 KB\n"
          ]
        }
      ]
    },
    {
      "cell_type": "code",
      "source": [
        "Y = main_data.pop('Power (W)')\n",
        "\n",
        "X = main_data"
      ],
      "metadata": {
        "id": "gNNAdeKUh9SQ"
      },
      "execution_count": null,
      "outputs": []
    },
    {
      "cell_type": "code",
      "source": [
        "X.dtypes"
      ],
      "metadata": {
        "colab": {
          "base_uri": "https://localhost:8080/"
        },
        "id": "af9GUmUriBjv",
        "outputId": "b1442254-87fc-47a6-d5ef-8f199d8b62ee"
      },
      "execution_count": null,
      "outputs": [
        {
          "output_type": "execute_result",
          "data": {
            "text/plain": [
              "Air Temp (degC)           float64\n",
              "Wind Speed (cm/s)         float64\n",
              "Panel Temp (degC)         float64\n",
              "Array Voltage (V)         float64\n",
              "Array Current (A)         float64\n",
              "Solar Radiation (W/m2)    float64\n",
              "dtype: object"
            ]
          },
          "metadata": {},
          "execution_count": 39
        }
      ]
    },
    {
      "cell_type": "markdown",
      "source": [
        "## Spliting the data into train and test "
      ],
      "metadata": {
        "id": "iIJuW-77yYpj"
      }
    },
    {
      "cell_type": "code",
      "source": [
        "from sklearn.model_selection import train_test_split,cross_val_score\n",
        "X_train, X_test, Y_train, Y_test = train_test_split(X,Y,test_size=0.2)"
      ],
      "metadata": {
        "id": "bTK_p-SgiIug"
      },
      "execution_count": null,
      "outputs": []
    },
    {
      "cell_type": "code",
      "source": [
        "X_train.shape , X_test.shape , Y_train.shape , Y_test.shape"
      ],
      "metadata": {
        "colab": {
          "base_uri": "https://localhost:8080/"
        },
        "id": "aHfP9XFUhD9E",
        "outputId": "7c40c29a-6d44-4b22-9b73-89ca381c77c4"
      },
      "execution_count": null,
      "outputs": [
        {
          "output_type": "execute_result",
          "data": {
            "text/plain": [
              "((1248, 6), (312, 6), (1248,), (312,))"
            ]
          },
          "metadata": {},
          "execution_count": 41
        }
      ]
    },
    {
      "cell_type": "markdown",
      "source": [
        "# Main Model 1 (FFNN)\n",
        "This is normal FeedForward Neural Network"
      ],
      "metadata": {
        "id": "FL2W_hJ_YZX9"
      }
    },
    {
      "cell_type": "code",
      "source": [
        "%%time\n",
        "\n",
        "import tensorflow as tf\n",
        "import random\n",
        "\n",
        "tf.random.set_seed(42)\n",
        "\n",
        "\n",
        "model_1 = tf.keras.Sequential([tf.keras.layers.Dense(50,activation='relu'),\n",
        "                               tf.keras.layers.Dense(10,activation='relu'),\n",
        "                               tf.keras.layers.Dense(1)])\n",
        "\n",
        "model_1.compile(loss=tf.keras.losses.mae,\n",
        "                optimizer = tf.keras.optimizers.Adam(learning_rate=0.001),\n",
        "                metrics = [\"mae\"])\n",
        "\n",
        "\n",
        "\n",
        "history_1 = model_1.fit(X_train,Y_train, epochs=20)"
      ],
      "metadata": {
        "colab": {
          "base_uri": "https://localhost:8080/"
        },
        "id": "teILEFrJHPYQ",
        "outputId": "e92debbb-c11a-48ab-f47b-376c9c98e70c"
      },
      "execution_count": null,
      "outputs": [
        {
          "output_type": "stream",
          "name": "stdout",
          "text": [
            "Epoch 1/20\n",
            "39/39 [==============================] - 2s 3ms/step - loss: 0.1851 - mae: 0.1851\n",
            "Epoch 2/20\n",
            "39/39 [==============================] - 0s 3ms/step - loss: 0.0567 - mae: 0.0567\n",
            "Epoch 3/20\n",
            "39/39 [==============================] - 0s 4ms/step - loss: 0.0540 - mae: 0.0540\n",
            "Epoch 4/20\n",
            "39/39 [==============================] - 0s 3ms/step - loss: 0.0530 - mae: 0.0530\n",
            "Epoch 5/20\n",
            "39/39 [==============================] - 0s 3ms/step - loss: 0.0529 - mae: 0.0529\n",
            "Epoch 6/20\n",
            "39/39 [==============================] - 0s 3ms/step - loss: 0.0524 - mae: 0.0524\n",
            "Epoch 7/20\n",
            "39/39 [==============================] - 0s 3ms/step - loss: 0.0522 - mae: 0.0522\n",
            "Epoch 8/20\n",
            "39/39 [==============================] - 0s 4ms/step - loss: 0.0521 - mae: 0.0521\n",
            "Epoch 9/20\n",
            "39/39 [==============================] - 0s 4ms/step - loss: 0.0518 - mae: 0.0518\n",
            "Epoch 10/20\n",
            "39/39 [==============================] - 0s 5ms/step - loss: 0.0518 - mae: 0.0518\n",
            "Epoch 11/20\n",
            "39/39 [==============================] - 0s 4ms/step - loss: 0.0517 - mae: 0.0517\n",
            "Epoch 12/20\n",
            "39/39 [==============================] - 0s 3ms/step - loss: 0.0515 - mae: 0.0515\n",
            "Epoch 13/20\n",
            "39/39 [==============================] - 0s 3ms/step - loss: 0.0516 - mae: 0.0516\n",
            "Epoch 14/20\n",
            "39/39 [==============================] - 0s 3ms/step - loss: 0.0515 - mae: 0.0515\n",
            "Epoch 15/20\n",
            "39/39 [==============================] - 0s 4ms/step - loss: 0.0525 - mae: 0.0525\n",
            "Epoch 16/20\n",
            "39/39 [==============================] - 0s 5ms/step - loss: 0.0517 - mae: 0.0517\n",
            "Epoch 17/20\n",
            "39/39 [==============================] - 0s 5ms/step - loss: 0.0517 - mae: 0.0517\n",
            "Epoch 18/20\n",
            "39/39 [==============================] - 0s 3ms/step - loss: 0.0512 - mae: 0.0512\n",
            "Epoch 19/20\n",
            "39/39 [==============================] - 0s 4ms/step - loss: 0.0516 - mae: 0.0516\n",
            "Epoch 20/20\n",
            "39/39 [==============================] - 0s 3ms/step - loss: 0.0513 - mae: 0.0513\n",
            "CPU times: user 6.05 s, sys: 1.21 s, total: 7.26 s\n",
            "Wall time: 8.67 s\n"
          ]
        }
      ]
    },
    {
      "cell_type": "code",
      "source": [
        "model_1.summary()"
      ],
      "metadata": {
        "id": "HtpjildzwbVt",
        "outputId": "622cb2da-f36e-4b45-bf2e-db4df488e36e",
        "colab": {
          "base_uri": "https://localhost:8080/"
        }
      },
      "execution_count": null,
      "outputs": [
        {
          "output_type": "stream",
          "name": "stdout",
          "text": [
            "Model: \"sequential\"\n",
            "_________________________________________________________________\n",
            " Layer (type)                Output Shape              Param #   \n",
            "=================================================================\n",
            " dense (Dense)               (32, 50)                  350       \n",
            "                                                                 \n",
            " dense_1 (Dense)             (32, 10)                  510       \n",
            "                                                                 \n",
            " dense_2 (Dense)             (32, 1)                   11        \n",
            "                                                                 \n",
            "=================================================================\n",
            "Total params: 871\n",
            "Trainable params: 871\n",
            "Non-trainable params: 0\n",
            "_________________________________________________________________\n"
          ]
        }
      ]
    },
    {
      "cell_type": "code",
      "source": [
        "pd.DataFrame(history_1.history).plot()\n",
        "plt.ylabel(\"Mean absoulte error\")\n",
        "plt.xlabel(\"Epochs\")\n",
        "plt.title(\"Neural Network Error\")"
      ],
      "metadata": {
        "colab": {
          "base_uri": "https://localhost:8080/",
          "height": 312
        },
        "id": "uaRie33NXgXb",
        "outputId": "c6580a71-0905-48c6-ebb5-e4829fe93935"
      },
      "execution_count": null,
      "outputs": [
        {
          "output_type": "execute_result",
          "data": {
            "text/plain": [
              "Text(0.5, 1.0, 'Neural Network Error')"
            ]
          },
          "metadata": {},
          "execution_count": 44
        },
        {
          "output_type": "display_data",
          "data": {
            "text/plain": [
              "<Figure size 432x288 with 1 Axes>"
            ],
            "image/png": "[encoded data removed]"
          },
          "metadata": {
            "needs_background": "light"
          }
        }
      ]
    },
    {
      "cell_type": "code",
      "source": [
        "model_1.evaluate(X_test,Y_test)"
      ],
      "metadata": {
        "colab": {
          "base_uri": "https://localhost:8080/"
        },
        "id": "58l9fSpWYB8x",
        "outputId": "e5cf40c1-d18d-4476-ec4c-799fb45cbefd"
      },
      "execution_count": null,
      "outputs": [
        {
          "output_type": "stream",
          "name": "stdout",
          "text": [
            "10/10 [==============================] - 0s 4ms/step - loss: 0.0474 - mae: 0.0474\n"
          ]
        },
        {
          "output_type": "execute_result",
          "data": {
            "text/plain": [
              "[0.04737408459186554, 0.04737408459186554]"
            ]
          },
          "metadata": {},
          "execution_count": 45
        }
      ]
    },
    {
      "cell_type": "code",
      "source": [
        "y_pred_1 = model_1.predict(X_test)"
      ],
      "metadata": {
        "id": "T5k5C33cX1pI"
      },
      "execution_count": null,
      "outputs": []
    },
    {
      "cell_type": "code",
      "source": [
        "Y_test"
      ],
      "metadata": {
        "colab": {
          "base_uri": "https://localhost:8080/"
        },
        "id": "J_m6wDrQYcHr",
        "outputId": "083dedd0-4d7d-40c6-8052-4544ec3e04ef"
      },
      "execution_count": null,
      "outputs": [
        {
          "output_type": "execute_result",
          "data": {
            "text/plain": [
              "161     0.104602\n",
              "1044    0.140190\n",
              "959     0.146835\n",
              "439     0.230384\n",
              "1218    0.109721\n",
              "          ...   \n",
              "948     0.057824\n",
              "469     0.154294\n",
              "974     0.114747\n",
              "552     0.096046\n",
              "92      0.064026\n",
              "Name: Power (W), Length: 312, dtype: float64"
            ]
          },
          "metadata": {},
          "execution_count": 47
        }
      ]
    },
    {
      "cell_type": "code",
      "source": [
        "y_pred_1"
      ],
      "metadata": {
        "colab": {
          "base_uri": "https://localhost:8080/"
        },
        "id": "7k0jSaoIo93n",
        "outputId": "0d0185d0-95f2-4dfe-a6b7-ea92e3c9e09a"
      },
      "execution_count": null,
      "outputs": [
        {
          "output_type": "execute_result",
          "data": {
            "text/plain": [
              "array([[0.10320203],\n",
              "       [0.1063896 ],\n",
              "       [0.11015795],\n",
              "       [0.11488287],\n",
              "       [0.08641387],\n",
              "       [0.15612799],\n",
              "       [0.12295628],\n",
              "       [0.09688633],\n",
              "       [0.1283001 ],\n",
              "       [0.10485976],\n",
              "       [0.09947985],\n",
              "       [0.11924751],\n",
              "       [0.12774478],\n",
              "       [0.09058746],\n",
              "       [0.14097695],\n",
              "       [0.09093162],\n",
              "       [0.16062585],\n",
              "       [0.09981561],\n",
              "       [0.15159976],\n",
              "       [0.08946551],\n",
              "       [0.12717287],\n",
              "       [0.13351117],\n",
              "       [0.13943037],\n",
              "       [0.07677913],\n",
              "       [0.1031938 ],\n",
              "       [0.08836553],\n",
              "       [0.09440041],\n",
              "       [0.11810273],\n",
              "       [0.1535745 ],\n",
              "       [0.09646785],\n",
              "       [0.0918486 ],\n",
              "       [0.10408154],\n",
              "       [0.11685991],\n",
              "       [0.11816925],\n",
              "       [0.11477597],\n",
              "       [0.10599488],\n",
              "       [0.11532508],\n",
              "       [0.13982546],\n",
              "       [0.12147331],\n",
              "       [0.08763394],\n",
              "       [0.11226328],\n",
              "       [0.11558366],\n",
              "       [0.08695489],\n",
              "       [0.13020799],\n",
              "       [0.10463955],\n",
              "       [0.09740646],\n",
              "       [0.09386177],\n",
              "       [0.10726452],\n",
              "       [0.1125914 ],\n",
              "       [0.10834491],\n",
              "       [0.11855552],\n",
              "       [0.10815167],\n",
              "       [0.15417297],\n",
              "       [0.0907288 ],\n",
              "       [0.15390316],\n",
              "       [0.09869163],\n",
              "       [0.12277529],\n",
              "       [0.11905731],\n",
              "       [0.14686589],\n",
              "       [0.11827078],\n",
              "       [0.15359123],\n",
              "       [0.09612767],\n",
              "       [0.10776725],\n",
              "       [0.09215419],\n",
              "       [0.1388304 ],\n",
              "       [0.10477018],\n",
              "       [0.1340765 ],\n",
              "       [0.13400541],\n",
              "       [0.09113987],\n",
              "       [0.12220033],\n",
              "       [0.094689  ],\n",
              "       [0.13807964],\n",
              "       [0.13563418],\n",
              "       [0.14231294],\n",
              "       [0.10902455],\n",
              "       [0.11969763],\n",
              "       [0.13767122],\n",
              "       [0.1522279 ],\n",
              "       [0.11697318],\n",
              "       [0.09628838],\n",
              "       [0.13977641],\n",
              "       [0.13838883],\n",
              "       [0.08040158],\n",
              "       [0.11352022],\n",
              "       [0.09945762],\n",
              "       [0.14223477],\n",
              "       [0.14934686],\n",
              "       [0.0798637 ],\n",
              "       [0.14913933],\n",
              "       [0.10469162],\n",
              "       [0.11006904],\n",
              "       [0.11093387],\n",
              "       [0.14905138],\n",
              "       [0.12117799],\n",
              "       [0.15859972],\n",
              "       [0.09609289],\n",
              "       [0.1145491 ],\n",
              "       [0.0900463 ],\n",
              "       [0.15059835],\n",
              "       [0.09859854],\n",
              "       [0.10436499],\n",
              "       [0.08560947],\n",
              "       [0.08598922],\n",
              "       [0.15005451],\n",
              "       [0.09079547],\n",
              "       [0.15158787],\n",
              "       [0.11745942],\n",
              "       [0.14291757],\n",
              "       [0.112378  ],\n",
              "       [0.10229294],\n",
              "       [0.08511581],\n",
              "       [0.08922772],\n",
              "       [0.15025128],\n",
              "       [0.15214637],\n",
              "       [0.10395545],\n",
              "       [0.08592426],\n",
              "       [0.11942852],\n",
              "       [0.09560424],\n",
              "       [0.09420703],\n",
              "       [0.08428404],\n",
              "       [0.0959982 ],\n",
              "       [0.09860657],\n",
              "       [0.09408328],\n",
              "       [0.13254453],\n",
              "       [0.12038501],\n",
              "       [0.12154755],\n",
              "       [0.10948533],\n",
              "       [0.12490892],\n",
              "       [0.13652228],\n",
              "       [0.10865538],\n",
              "       [0.08935831],\n",
              "       [0.09522983],\n",
              "       [0.11267047],\n",
              "       [0.10355124],\n",
              "       [0.09932838],\n",
              "       [0.08915626],\n",
              "       [0.1188951 ],\n",
              "       [0.09417798],\n",
              "       [0.11573583],\n",
              "       [0.10055146],\n",
              "       [0.11693574],\n",
              "       [0.10872521],\n",
              "       [0.09270643],\n",
              "       [0.12929238],\n",
              "       [0.10070285],\n",
              "       [0.11860472],\n",
              "       [0.09474708],\n",
              "       [0.10038736],\n",
              "       [0.11412589],\n",
              "       [0.09156927],\n",
              "       [0.0827933 ],\n",
              "       [0.09037118],\n",
              "       [0.09321328],\n",
              "       [0.09857935],\n",
              "       [0.12416664],\n",
              "       [0.09848458],\n",
              "       [0.12046655],\n",
              "       [0.1126395 ],\n",
              "       [0.0852302 ],\n",
              "       [0.11345901],\n",
              "       [0.09866977],\n",
              "       [0.11098914],\n",
              "       [0.10994129],\n",
              "       [0.11780037],\n",
              "       [0.14491184],\n",
              "       [0.11311589],\n",
              "       [0.11408722],\n",
              "       [0.13067651],\n",
              "       [0.1511749 ],\n",
              "       [0.11174417],\n",
              "       [0.1108226 ],\n",
              "       [0.13034774],\n",
              "       [0.10508552],\n",
              "       [0.13968503],\n",
              "       [0.12435535],\n",
              "       [0.13876702],\n",
              "       [0.09310825],\n",
              "       [0.09289728],\n",
              "       [0.14495955],\n",
              "       [0.07486927],\n",
              "       [0.13702285],\n",
              "       [0.12454411],\n",
              "       [0.11278898],\n",
              "       [0.08785301],\n",
              "       [0.11007892],\n",
              "       [0.08628914],\n",
              "       [0.14870748],\n",
              "       [0.12316771],\n",
              "       [0.08908013],\n",
              "       [0.14505486],\n",
              "       [0.09724452],\n",
              "       [0.11999398],\n",
              "       [0.08996499],\n",
              "       [0.09184374],\n",
              "       [0.08671217],\n",
              "       [0.09873082],\n",
              "       [0.14892694],\n",
              "       [0.08089016],\n",
              "       [0.12713139],\n",
              "       [0.09729522],\n",
              "       [0.10688326],\n",
              "       [0.149251  ],\n",
              "       [0.12934245],\n",
              "       [0.13181171],\n",
              "       [0.08962092],\n",
              "       [0.16418904],\n",
              "       [0.11015509],\n",
              "       [0.11956717],\n",
              "       [0.10521885],\n",
              "       [0.1163497 ],\n",
              "       [0.10103548],\n",
              "       [0.09487684],\n",
              "       [0.15261926],\n",
              "       [0.14208852],\n",
              "       [0.12844968],\n",
              "       [0.1228227 ],\n",
              "       [0.13535172],\n",
              "       [0.13729924],\n",
              "       [0.07726441],\n",
              "       [0.08961415],\n",
              "       [0.09205072],\n",
              "       [0.14971423],\n",
              "       [0.12577705],\n",
              "       [0.12308145],\n",
              "       [0.13004562],\n",
              "       [0.09373423],\n",
              "       [0.12018351],\n",
              "       [0.12602724],\n",
              "       [0.10789642],\n",
              "       [0.11376768],\n",
              "       [0.11267275],\n",
              "       [0.09610184],\n",
              "       [0.10039161],\n",
              "       [0.1451352 ],\n",
              "       [0.12258711],\n",
              "       [0.11207722],\n",
              "       [0.1444971 ],\n",
              "       [0.13098161],\n",
              "       [0.10273706],\n",
              "       [0.11604583],\n",
              "       [0.08872718],\n",
              "       [0.11165999],\n",
              "       [0.10773411],\n",
              "       [0.09838796],\n",
              "       [0.13147807],\n",
              "       [0.14310685],\n",
              "       [0.11458495],\n",
              "       [0.09775977],\n",
              "       [0.11047003],\n",
              "       [0.13080108],\n",
              "       [0.10520606],\n",
              "       [0.10045159],\n",
              "       [0.11859199],\n",
              "       [0.11500777],\n",
              "       [0.08553615],\n",
              "       [0.11693715],\n",
              "       [0.15135272],\n",
              "       [0.13580476],\n",
              "       [0.10251504],\n",
              "       [0.09737636],\n",
              "       [0.13669416],\n",
              "       [0.11013648],\n",
              "       [0.10400204],\n",
              "       [0.08987644],\n",
              "       [0.09638397],\n",
              "       [0.11407517],\n",
              "       [0.14896235],\n",
              "       [0.11539719],\n",
              "       [0.10492267],\n",
              "       [0.09774497],\n",
              "       [0.10021269],\n",
              "       [0.0984214 ],\n",
              "       [0.0970153 ],\n",
              "       [0.08915593],\n",
              "       [0.08961472],\n",
              "       [0.15134406],\n",
              "       [0.09712832],\n",
              "       [0.09032716],\n",
              "       [0.10373134],\n",
              "       [0.09273215],\n",
              "       [0.15366536],\n",
              "       [0.09746529],\n",
              "       [0.10162096],\n",
              "       [0.15090378],\n",
              "       [0.10839678],\n",
              "       [0.09044653],\n",
              "       [0.14542353],\n",
              "       [0.12132548],\n",
              "       [0.10188225],\n",
              "       [0.08741737],\n",
              "       [0.13835686],\n",
              "       [0.14652959],\n",
              "       [0.11160338],\n",
              "       [0.12350343],\n",
              "       [0.08852419],\n",
              "       [0.12119651],\n",
              "       [0.12697878],\n",
              "       [0.11318628],\n",
              "       [0.08300586],\n",
              "       [0.08871851],\n",
              "       [0.10677592],\n",
              "       [0.10007495],\n",
              "       [0.10713935],\n",
              "       [0.11570551],\n",
              "       [0.13623384],\n",
              "       [0.12698603],\n",
              "       [0.12080573],\n",
              "       [0.11519545],\n",
              "       [0.12832092],\n",
              "       [0.12289549],\n",
              "       [0.1583528 ],\n",
              "       [0.12127411]], dtype=float32)"
            ]
          },
          "metadata": {},
          "execution_count": 48
        }
      ]
    },
    {
      "cell_type": "code",
      "source": [
        "final_power_1 = y_pred_1 * (max_d - min_d) + min_d"
      ],
      "metadata": {
        "id": "Dsq5BPyoQKO5"
      },
      "execution_count": null,
      "outputs": []
    },
    {
      "cell_type": "code",
      "source": [
        "final_power_1"
      ],
      "metadata": {
        "colab": {
          "base_uri": "https://localhost:8080/"
        },
        "id": "ddth6B7yQKNL",
        "outputId": "1de9e301-dfed-4501-f520-cecc7d4f5238"
      },
      "execution_count": null,
      "outputs": [
        {
          "output_type": "execute_result",
          "data": {
            "text/plain": [
              "array([[389.4019 ],\n",
              "       [401.42923],\n",
              "       [415.64798],\n",
              "       [433.47604],\n",
              "       [326.0568 ],\n",
              "       [589.1021 ],\n",
              "       [463.93863],\n",
              "       [365.5715 ],\n",
              "       [484.10193],\n",
              "       [395.65686],\n",
              "       [375.3574 ],\n",
              "       [449.9447 ],\n",
              "       [482.0066 ],\n",
              "       [341.8046 ],\n",
              "       [531.9342 ],\n",
              "       [343.1032 ],\n",
              "       [606.0734 ],\n",
              "       [376.62427],\n",
              "       [572.01624],\n",
              "       [337.57126],\n",
              "       [479.84866],\n",
              "       [503.76434],\n",
              "       [526.0987 ],\n",
              "       [289.703  ],\n",
              "       [389.37085],\n",
              "       [333.4208 ],\n",
              "       [356.19162],\n",
              "       [445.6252 ],\n",
              "       [579.4673 ],\n",
              "       [363.99246],\n",
              "       [346.5631 ],\n",
              "       [392.72046],\n",
              "       [440.93582],\n",
              "       [445.8762 ],\n",
              "       [433.0727 ],\n",
              "       [399.93988],\n",
              "       [435.1446 ],\n",
              "       [527.5894 ],\n",
              "       [458.3431 ],\n",
              "       [330.66037],\n",
              "       [423.5918 ],\n",
              "       [436.12024],\n",
              "       [328.0982 ],\n",
              "       [491.30075],\n",
              "       [394.82593],\n",
              "       [367.53406],\n",
              "       [354.1592 ],\n",
              "       [404.73047],\n",
              "       [424.82986],\n",
              "       [408.807  ],\n",
              "       [447.33368],\n",
              "       [408.07788],\n",
              "       [581.72546],\n",
              "       [342.3379 ],\n",
              "       [580.7074 ],\n",
              "       [372.38324],\n",
              "       [463.2557 ],\n",
              "       [449.22705],\n",
              "       [554.15436],\n",
              "       [446.2593 ],\n",
              "       [579.5304 ],\n",
              "       [362.70892],\n",
              "       [406.6274 ],\n",
              "       [347.7162 ],\n",
              "       [523.83484],\n",
              "       [395.31885],\n",
              "       [505.89746],\n",
              "       [505.6292 ],\n",
              "       [343.88895],\n",
              "       [461.08627],\n",
              "       [357.28055],\n",
              "       [521.0021 ],\n",
              "       [511.7749 ],\n",
              "       [536.9752 ],\n",
              "       [411.37143],\n",
              "       [451.6431 ],\n",
              "       [519.46106],\n",
              "       [574.3863 ],\n",
              "       [441.3632 ],\n",
              "       [363.3153 ],\n",
              "       [527.40436],\n",
              "       [522.1687 ],\n",
              "       [303.37125],\n",
              "       [428.3345 ],\n",
              "       [375.2735 ],\n",
              "       [536.68024],\n",
              "       [563.51556],\n",
              "       [301.3417 ],\n",
              "       [562.7325 ],\n",
              "       [395.02243],\n",
              "       [415.31247],\n",
              "       [418.57568],\n",
              "       [562.4007 ],\n",
              "       [457.22876],\n",
              "       [598.42847],\n",
              "       [362.5777 ],\n",
              "       [432.21667],\n",
              "       [339.7627 ],\n",
              "       [568.2377 ],\n",
              "       [372.032  ],\n",
              "       [393.78998],\n",
              "       [323.02164],\n",
              "       [324.45453],\n",
              "       [566.18567],\n",
              "       [342.58948],\n",
              "       [571.9714 ],\n",
              "       [443.19788],\n",
              "       [539.2566 ],\n",
              "       [424.02466],\n",
              "       [385.9717 ],\n",
              "       [321.15897],\n",
              "       [336.67404],\n",
              "       [566.92816],\n",
              "       [574.0787 ],\n",
              "       [392.2447 ],\n",
              "       [324.2094 ],\n",
              "       [450.62766],\n",
              "       [360.73392],\n",
              "       [355.46198],\n",
              "       [318.02057],\n",
              "       [362.2204 ],\n",
              "       [372.06232],\n",
              "       [354.99503],\n",
              "       [500.11703],\n",
              "       [454.2367 ],\n",
              "       [458.6232 ],\n",
              "       [413.11005],\n",
              "       [471.30634],\n",
              "       [515.12585],\n",
              "       [409.97845],\n",
              "       [337.16678],\n",
              "       [359.32117],\n",
              "       [425.1282 ],\n",
              "       [390.71954],\n",
              "       [374.78586],\n",
              "       [336.4044 ],\n",
              "       [448.615  ],\n",
              "       [355.35233],\n",
              "       [436.69443],\n",
              "       [379.4008 ],\n",
              "       [441.22195],\n",
              "       [410.24194],\n",
              "       [349.7999 ],\n",
              "       [487.846  ],\n",
              "       [379.972  ],\n",
              "       [447.51932],\n",
              "       [357.4997 ],\n",
              "       [378.7816 ],\n",
              "       [430.6198 ],\n",
              "       [345.5092 ],\n",
              "       [312.39566],\n",
              "       [340.98853],\n",
              "       [351.7123 ],\n",
              "       [371.9596 ],\n",
              "       [468.50555],\n",
              "       [371.602  ],\n",
              "       [454.54437],\n",
              "       [425.01135],\n",
              "       [321.5906 ],\n",
              "       [428.10352],\n",
              "       [372.30075],\n",
              "       [418.7842 ],\n",
              "       [414.83047],\n",
              "       [444.48434],\n",
              "       [546.7814 ],\n",
              "       [426.80887],\n",
              "       [430.4739 ],\n",
              "       [493.0686 ],\n",
              "       [570.41315],\n",
              "       [421.6331 ],\n",
              "       [418.15585],\n",
              "       [491.8281 ],\n",
              "       [396.5087 ],\n",
              "       [527.0596 ],\n",
              "       [469.2176 ],\n",
              "       [523.5957 ],\n",
              "       [351.31604],\n",
              "       [350.52002],\n",
              "       [546.96136],\n",
              "       [282.4967 ],\n",
              "       [517.01465],\n",
              "       [469.92984],\n",
              "       [425.57535],\n",
              "       [331.48697],\n",
              "       [415.34976],\n",
              "       [325.58618],\n",
              "       [561.103  ],\n",
              "       [464.7364 ],\n",
              "       [336.11713],\n",
              "       [547.321  ],\n",
              "       [366.92303],\n",
              "       [452.7613 ],\n",
              "       [339.4559 ],\n",
              "       [346.5448 ],\n",
              "       [327.18234],\n",
              "       [372.53116],\n",
              "       [561.93115],\n",
              "       [305.21475],\n",
              "       [479.69214],\n",
              "       [367.11435],\n",
              "       [403.2919 ],\n",
              "       [563.1539 ],\n",
              "       [488.03494],\n",
              "       [497.35193],\n",
              "       [338.15765],\n",
              "       [619.51807],\n",
              "       [415.63718],\n",
              "       [451.15085],\n",
              "       [397.01175],\n",
              "       [439.01068],\n",
              "       [381.22705],\n",
              "       [357.9893 ],\n",
              "       [575.863  ],\n",
              "       [536.1284 ],\n",
              "       [484.66632],\n",
              "       [463.4346 ],\n",
              "       [510.7091 ],\n",
              "       [518.0575 ],\n",
              "       [291.53406],\n",
              "       [338.1321 ],\n",
              "       [347.32578],\n",
              "       [564.90173],\n",
              "       [474.58197],\n",
              "       [464.41092],\n",
              "       [490.68814],\n",
              "       [353.678  ],\n",
              "       [453.4764 ],\n",
              "       [475.52597],\n",
              "       [407.11475],\n",
              "       [429.26822],\n",
              "       [425.1368 ],\n",
              "       [362.61145],\n",
              "       [378.79764],\n",
              "       [547.6241 ],\n",
              "       [462.5457 ],\n",
              "       [422.88977],\n",
              "       [545.21643],\n",
              "       [494.2198 ],\n",
              "       [387.64746],\n",
              "       [437.86414],\n",
              "       [334.78537],\n",
              "       [421.31546],\n",
              "       [406.50235],\n",
              "       [371.23743],\n",
              "       [496.09305],\n",
              "       [539.97076],\n",
              "       [432.35193],\n",
              "       [368.86716],\n",
              "       [416.8255 ],\n",
              "       [493.53864],\n",
              "       [396.9635 ],\n",
              "       [379.02393],\n",
              "       [447.4713 ],\n",
              "       [433.94733],\n",
              "       [322.745  ],\n",
              "       [441.22723],\n",
              "       [571.08405],\n",
              "       [512.4185 ],\n",
              "       [386.80975],\n",
              "       [367.42047],\n",
              "       [515.7744 ],\n",
              "       [415.56696],\n",
              "       [392.4205 ],\n",
              "       [339.1218 ],\n",
              "       [363.676  ],\n",
              "       [430.42844],\n",
              "       [562.0647 ],\n",
              "       [435.41666],\n",
              "       [395.8942 ],\n",
              "       [368.8113 ],\n",
              "       [378.12253],\n",
              "       [371.36362],\n",
              "       [366.05814],\n",
              "       [336.40314],\n",
              "       [338.13425],\n",
              "       [571.0514 ],\n",
              "       [366.48456],\n",
              "       [340.82242],\n",
              "       [391.39908],\n",
              "       [349.89694],\n",
              "       [579.8101 ],\n",
              "       [367.75604],\n",
              "       [383.4362 ],\n",
              "       [569.39014],\n",
              "       [409.00275],\n",
              "       [341.27286],\n",
              "       [548.71204],\n",
              "       [457.78528],\n",
              "       [384.4221 ],\n",
              "       [329.84323],\n",
              "       [522.0481 ],\n",
              "       [552.88544],\n",
              "       [421.10187],\n",
              "       [466.00314],\n",
              "       [334.01947],\n",
              "       [457.29865],\n",
              "       [479.11633],\n",
              "       [427.0745 ],\n",
              "       [313.19772],\n",
              "       [334.7527 ],\n",
              "       [402.8869 ],\n",
              "       [377.60278],\n",
              "       [404.25818],\n",
              "       [436.58002],\n",
              "       [514.0375 ],\n",
              "       [479.14368],\n",
              "       [455.82416],\n",
              "       [434.6555 ],\n",
              "       [484.18048],\n",
              "       [463.70926],\n",
              "       [597.4968 ],\n",
              "       [457.5915 ]], dtype=float32)"
            ]
          },
          "metadata": {},
          "execution_count": 50
        }
      ]
    },
    {
      "cell_type": "code",
      "source": [
        "plt.scatter(Y_test[:100], y_pred_1[:100])"
      ],
      "metadata": {
        "colab": {
          "base_uri": "https://localhost:8080/",
          "height": 282
        },
        "id": "FeibICoTYgVi",
        "outputId": "db74ad87-ac82-4cee-f168-fe716503eb80"
      },
      "execution_count": null,
      "outputs": [
        {
          "output_type": "execute_result",
          "data": {
            "text/plain": [
              "<matplotlib.collections.PathCollection at 0x7f6e3020fcd0>"
            ]
          },
          "metadata": {},
          "execution_count": 51
        },
        {
          "output_type": "display_data",
          "data": {
            "text/plain": [
              "<Figure size 432x288 with 1 Axes>"
            ],
            "image/png": "[encoded data removed]"
          },
          "metadata": {
            "needs_background": "light"
          }
        }
      ]
    },
    {
      "cell_type": "code",
      "source": [
        "plt.plot(Y_test[:5],'g', y_pred_1[:5],'r')"
      ],
      "metadata": {
        "colab": {
          "base_uri": "https://localhost:8080/",
          "height": 300
        },
        "id": "BBzy3CZsZ8G8",
        "outputId": "f815a745-725a-4f23-dce8-b75337e4a620"
      },
      "execution_count": null,
      "outputs": [
        {
          "output_type": "execute_result",
          "data": {
            "text/plain": [
              "[<matplotlib.lines.Line2D at 0x7f6e30571e50>,\n",
              " <matplotlib.lines.Line2D at 0x7f6e302955d0>]"
            ]
          },
          "metadata": {},
          "execution_count": 52
        },
        {
          "output_type": "display_data",
          "data": {
            "text/plain": [
              "<Figure size 432x288 with 1 Axes>"
            ],
            "image/png": "[encoded data removed]"
          },
          "metadata": {
            "needs_background": "light"
          }
        }
      ]
    },
    {
      "cell_type": "code",
      "source": [],
      "metadata": {
        "id": "wk6FBtDmZ8Ey"
      },
      "execution_count": null,
      "outputs": []
    },
    {
      "cell_type": "code",
      "source": [],
      "metadata": {
        "id": "T8X2wamOZ8Cy"
      },
      "execution_count": null,
      "outputs": []
    },
    {
      "cell_type": "code",
      "source": [],
      "metadata": {
        "id": "qf3VsHwBZ8Ak"
      },
      "execution_count": null,
      "outputs": []
    },
    {
      "cell_type": "code",
      "source": [],
      "metadata": {
        "id": "GFi66ob5QKJC"
      },
      "execution_count": null,
      "outputs": []
    },
    {
      "cell_type": "code",
      "source": [],
      "metadata": {
        "id": "ELO7dgjxQKGm"
      },
      "execution_count": null,
      "outputs": []
    },
    {
      "cell_type": "markdown",
      "source": [
        "# Main Model 2 (FFNN with dropout layers)"
      ],
      "metadata": {
        "id": "ptF7VLCLpZiT"
      }
    },
    {
      "cell_type": "code",
      "source": [
        "%%time\n",
        "import tensorflow as tf\n",
        "import random\n",
        "\n",
        "tf.random.set_seed(42)\n",
        "\n",
        "\n",
        "model_2 = tf.keras.Sequential([tf.keras.layers.Dense(200,activation='relu'),\n",
        "                               tf.keras.layers.Dropout(0.2),\n",
        "                               tf.keras.layers.Dense(100,activation='relu'),\n",
        "                               tf.keras.layers.Dropout(0.2),\n",
        "                               tf.keras.layers.Dense(10,activation='relu'),\n",
        "                               tf.keras.layers.Dense(1)])\n",
        "\n",
        "model_2.compile(loss=tf.keras.losses.mae,\n",
        "                optimizer = tf.keras.optimizers.Adam(learning_rate=0.001),\n",
        "                metrics = [\"mae\"])\n",
        "\n",
        "\n",
        "\n",
        "history_2 = model_2.fit(X_train,Y_train, epochs=20)"
      ],
      "metadata": {
        "colab": {
          "base_uri": "https://localhost:8080/"
        },
        "id": "MxBsm0njY9RT",
        "outputId": "9b422a9f-83ab-4ea3-e7f8-29db89405109"
      },
      "execution_count": null,
      "outputs": [
        {
          "output_type": "stream",
          "name": "stdout",
          "text": [
            "Epoch 1/20\n",
            "39/39 [==============================] - 1s 4ms/step - loss: 0.0682 - mae: 0.0682\n",
            "Epoch 2/20\n",
            "39/39 [==============================] - 0s 4ms/step - loss: 0.0564 - mae: 0.0564\n",
            "Epoch 3/20\n",
            "39/39 [==============================] - 0s 4ms/step - loss: 0.0556 - mae: 0.0556\n",
            "Epoch 4/20\n",
            "39/39 [==============================] - 0s 4ms/step - loss: 0.0549 - mae: 0.0549\n",
            "Epoch 5/20\n",
            "39/39 [==============================] - 0s 5ms/step - loss: 0.0549 - mae: 0.0549\n",
            "Epoch 6/20\n",
            "39/39 [==============================] - 0s 5ms/step - loss: 0.0540 - mae: 0.0540\n",
            "Epoch 7/20\n",
            "39/39 [==============================] - 0s 5ms/step - loss: 0.0543 - mae: 0.0543\n",
            "Epoch 8/20\n",
            "39/39 [==============================] - 0s 4ms/step - loss: 0.0535 - mae: 0.0535\n",
            "Epoch 9/20\n",
            "39/39 [==============================] - 0s 5ms/step - loss: 0.0527 - mae: 0.0527\n",
            "Epoch 10/20\n",
            "39/39 [==============================] - 0s 6ms/step - loss: 0.0523 - mae: 0.0523\n",
            "Epoch 11/20\n",
            "39/39 [==============================] - 0s 4ms/step - loss: 0.0527 - mae: 0.0527\n",
            "Epoch 12/20\n",
            "39/39 [==============================] - 0s 4ms/step - loss: 0.0522 - mae: 0.0522\n",
            "Epoch 13/20\n",
            "39/39 [==============================] - 0s 4ms/step - loss: 0.0517 - mae: 0.0517\n",
            "Epoch 14/20\n",
            "39/39 [==============================] - 0s 5ms/step - loss: 0.0519 - mae: 0.0519\n",
            "Epoch 15/20\n",
            "39/39 [==============================] - 0s 4ms/step - loss: 0.0523 - mae: 0.0523\n",
            "Epoch 16/20\n",
            "39/39 [==============================] - 0s 4ms/step - loss: 0.0510 - mae: 0.0510\n",
            "Epoch 17/20\n",
            "39/39 [==============================] - 0s 3ms/step - loss: 0.0508 - mae: 0.0508\n",
            "Epoch 18/20\n",
            "39/39 [==============================] - 0s 4ms/step - loss: 0.0512 - mae: 0.0512\n",
            "Epoch 19/20\n",
            "39/39 [==============================] - 0s 4ms/step - loss: 0.0515 - mae: 0.0515\n",
            "Epoch 20/20\n",
            "39/39 [==============================] - 0s 5ms/step - loss: 0.0503 - mae: 0.0503\n",
            "CPU times: user 3.32 s, sys: 183 ms, total: 3.5 s\n",
            "Wall time: 4.89 s\n"
          ]
        }
      ]
    },
    {
      "cell_type": "code",
      "source": [
        "model_2.summary()"
      ],
      "metadata": {
        "colab": {
          "base_uri": "https://localhost:8080/"
        },
        "id": "Kr4YmrxodgSs",
        "outputId": "0dbf308e-f6ab-4922-f8fb-bcdb542090cf"
      },
      "execution_count": null,
      "outputs": [
        {
          "output_type": "stream",
          "name": "stdout",
          "text": [
            "Model: \"sequential_1\"\n",
            "_________________________________________________________________\n",
            " Layer (type)                Output Shape              Param #   \n",
            "=================================================================\n",
            " dense_3 (Dense)             (32, 200)                 1400      \n",
            "                                                                 \n",
            " dropout (Dropout)           (32, 200)                 0         \n",
            "                                                                 \n",
            " dense_4 (Dense)             (32, 100)                 20100     \n",
            "                                                                 \n",
            " dropout_1 (Dropout)         (32, 100)                 0         \n",
            "                                                                 \n",
            " dense_5 (Dense)             (32, 10)                  1010      \n",
            "                                                                 \n",
            " dense_6 (Dense)             (32, 1)                   11        \n",
            "                                                                 \n",
            "=================================================================\n",
            "Total params: 22,521\n",
            "Trainable params: 22,521\n",
            "Non-trainable params: 0\n",
            "_________________________________________________________________\n"
          ]
        }
      ]
    },
    {
      "cell_type": "code",
      "source": [
        "model_2.evaluate(X_test,Y_test)"
      ],
      "metadata": {
        "colab": {
          "base_uri": "https://localhost:8080/"
        },
        "id": "K8H1cWtwLoEI",
        "outputId": "0299431f-e45d-42ab-a757-9cfb64d0d33e"
      },
      "execution_count": null,
      "outputs": [
        {
          "output_type": "stream",
          "name": "stdout",
          "text": [
            "10/10 [==============================] - 0s 4ms/step - loss: 0.0469 - mae: 0.0469\n"
          ]
        },
        {
          "output_type": "execute_result",
          "data": {
            "text/plain": [
              "[0.04689249023795128, 0.04689249023795128]"
            ]
          },
          "metadata": {},
          "execution_count": 55
        }
      ]
    },
    {
      "cell_type": "code",
      "source": [
        "y_pred_2 = model_2.predict(X_test)"
      ],
      "metadata": {
        "id": "Iov-OMOyb11s"
      },
      "execution_count": null,
      "outputs": []
    },
    {
      "cell_type": "code",
      "source": [
        "y_pred_2[:7]"
      ],
      "metadata": {
        "colab": {
          "base_uri": "https://localhost:8080/"
        },
        "id": "biaIEpOpb1zo",
        "outputId": "a45fce1a-63f4-41e0-fb0e-18e1571232ec"
      },
      "execution_count": null,
      "outputs": [
        {
          "output_type": "execute_result",
          "data": {
            "text/plain": [
              "array([[0.11316951],\n",
              "       [0.11822991],\n",
              "       [0.10987912],\n",
              "       [0.14073695],\n",
              "       [0.08783047],\n",
              "       [0.1923679 ],\n",
              "       [0.1269728 ]], dtype=float32)"
            ]
          },
          "metadata": {},
          "execution_count": 57
        }
      ]
    },
    {
      "cell_type": "code",
      "source": [
        "final_power_2 = y_pred_2 * (max_d - min_d) + min_d"
      ],
      "metadata": {
        "id": "6dQJEq7pb1xN"
      },
      "execution_count": null,
      "outputs": []
    },
    {
      "cell_type": "code",
      "source": [
        "final_power_2[:10]"
      ],
      "metadata": {
        "colab": {
          "base_uri": "https://localhost:8080/"
        },
        "id": "NUYksDTkcDuT",
        "outputId": "8b3bef8c-7e6a-4e5b-bc2b-573841d03c70"
      },
      "execution_count": null,
      "outputs": [
        {
          "output_type": "execute_result",
          "data": {
            "text/plain": [
              "array([[427.01117],\n",
              "       [446.1051 ],\n",
              "       [414.5959 ],\n",
              "       [531.0287 ],\n",
              "       [331.40192],\n",
              "       [725.8425 ],\n",
              "       [479.09375],\n",
              "       [332.60648],\n",
              "       [437.6687 ],\n",
              "       [379.90823]], dtype=float32)"
            ]
          },
          "metadata": {},
          "execution_count": 59
        }
      ]
    },
    {
      "cell_type": "code",
      "source": [
        "plt.scatter(Y_test[:100], y_pred_2[:100])"
      ],
      "metadata": {
        "colab": {
          "base_uri": "https://localhost:8080/",
          "height": 285
        },
        "id": "mj8vVJnPcDsC",
        "outputId": "8ecd085e-1701-4311-e1b9-aa4c899989e0"
      },
      "execution_count": null,
      "outputs": [
        {
          "output_type": "execute_result",
          "data": {
            "text/plain": [
              "<matplotlib.collections.PathCollection at 0x7f6dd66aad50>"
            ]
          },
          "metadata": {},
          "execution_count": 60
        },
        {
          "output_type": "display_data",
          "data": {
            "text/plain": [
              "<Figure size 432x288 with 1 Axes>"
            ],
            "image/png": "[encoded data removed]"
          },
          "metadata": {
            "needs_background": "light"
          }
        }
      ]
    },
    {
      "cell_type": "code",
      "source": [
        "%%time\n",
        "\n",
        "pd.DataFrame(history_2.history).plot()\n",
        "plt.ylabel(\"Mean absoulte error\")\n",
        "plt.xlabel(\"Epochs\")\n",
        "plt.title(\"NN with Dropout layers-Error\")"
      ],
      "metadata": {
        "id": "F-ve9hKjcDpW",
        "colab": {
          "base_uri": "https://localhost:8080/",
          "height": 347
        },
        "outputId": "b52e272d-2eb8-403f-9491-cbbbf15a1af2"
      },
      "execution_count": null,
      "outputs": [
        {
          "output_type": "stream",
          "name": "stdout",
          "text": [
            "CPU times: user 38.5 ms, sys: 31 µs, total: 38.5 ms\n",
            "Wall time: 43.3 ms\n"
          ]
        },
        {
          "output_type": "execute_result",
          "data": {
            "text/plain": [
              "Text(0.5, 1.0, 'NN with Dropout layers-Error')"
            ]
          },
          "metadata": {},
          "execution_count": 61
        },
        {
          "output_type": "display_data",
          "data": {
            "text/plain": [
              "<Figure size 432x288 with 1 Axes>"
            ],
            "image/png": "[encoded data removed]"
          },
          "metadata": {
            "needs_background": "light"
          }
        }
      ]
    },
    {
      "cell_type": "markdown",
      "source": [
        "# Model 3 (LSTM)"
      ],
      "metadata": {
        "id": "vdoZSpIWqG3a"
      }
    },
    {
      "cell_type": "code",
      "source": [
        "# LSTM RNN\n",
        "%%time\n",
        "\n",
        "import tensorflow as tf\n",
        "\n",
        "tf.random.set_seed(42)\n",
        " \n",
        "model_3 = tf.keras.Sequential([tf.keras.layers.LSTM(100,activation='relu',return_sequences=True,input_shape=(6, 1),dropout=0.3),\n",
        "                               tf.keras.layers.LSTM(50,activation='relu'),\n",
        "                               tf.keras.layers.Dense(1)])\n",
        "\n",
        "model_3.compile(loss = 'mae',\n",
        "                optimizer=tf.keras.optimizers.Adam(learning_rate=0.01),\n",
        "                metrics = [\"mae\"])\n",
        "\n",
        "history_3 = model_3.fit(tf.expand_dims(X_train,axis=-1),Y_train, epochs=9)"
      ],
      "metadata": {
        "colab": {
          "base_uri": "https://localhost:8080/"
        },
        "id": "2fsPPeCArDbQ",
        "outputId": "8b97a82b-b76f-4b75-ff3f-e501294e12d5"
      },
      "execution_count": null,
      "outputs": [
        {
          "output_type": "stream",
          "name": "stderr",
          "text": [
            "WARNING:tensorflow:Layer lstm will not use cuDNN kernels since it doesn't meet the criteria. It will use a generic GPU kernel as fallback when running on GPU.\n",
            "WARNING:tensorflow:Layer lstm_1 will not use cuDNN kernels since it doesn't meet the criteria. It will use a generic GPU kernel as fallback when running on GPU.\n"
          ]
        },
        {
          "output_type": "stream",
          "name": "stdout",
          "text": [
            "Epoch 1/9\n",
            "39/39 [==============================] - 4s 12ms/step - loss: 0.0592 - mae: 0.0592\n",
            "Epoch 2/9\n",
            "39/39 [==============================] - 0s 12ms/step - loss: 0.0551 - mae: 0.0551\n",
            "Epoch 3/9\n",
            "39/39 [==============================] - 0s 12ms/step - loss: 0.0558 - mae: 0.0558\n",
            "Epoch 4/9\n",
            "39/39 [==============================] - 0s 11ms/step - loss: 0.0552 - mae: 0.0552\n",
            "Epoch 5/9\n",
            "39/39 [==============================] - 0s 12ms/step - loss: 0.0549 - mae: 0.0549\n",
            "Epoch 6/9\n",
            "39/39 [==============================] - 0s 12ms/step - loss: 0.0552 - mae: 0.0552\n",
            "Epoch 7/9\n",
            "39/39 [==============================] - 0s 12ms/step - loss: 0.0557 - mae: 0.0557\n",
            "Epoch 8/9\n",
            "39/39 [==============================] - 0s 12ms/step - loss: 0.0553 - mae: 0.0553\n",
            "Epoch 9/9\n",
            "39/39 [==============================] - 0s 12ms/step - loss: 0.0552 - mae: 0.0552\n",
            "CPU times: user 7.63 s, sys: 500 ms, total: 8.13 s\n",
            "Wall time: 7.88 s\n"
          ]
        }
      ]
    },
    {
      "cell_type": "code",
      "source": [
        "model_3.summary()"
      ],
      "metadata": {
        "colab": {
          "base_uri": "https://localhost:8080/"
        },
        "id": "LqAQ7bDideyd",
        "outputId": "ae5e10f7-a523-49dc-b5de-1bced1252fb9"
      },
      "execution_count": null,
      "outputs": [
        {
          "output_type": "stream",
          "name": "stdout",
          "text": [
            "Model: \"sequential_2\"\n",
            "_________________________________________________________________\n",
            " Layer (type)                Output Shape              Param #   \n",
            "=================================================================\n",
            " lstm (LSTM)                 (None, 6, 100)            40800     \n",
            "                                                                 \n",
            " lstm_1 (LSTM)               (None, 50)                30200     \n",
            "                                                                 \n",
            " dense_7 (Dense)             (None, 1)                 51        \n",
            "                                                                 \n",
            "=================================================================\n",
            "Total params: 71,051\n",
            "Trainable params: 71,051\n",
            "Non-trainable params: 0\n",
            "_________________________________________________________________\n"
          ]
        }
      ]
    },
    {
      "cell_type": "code",
      "source": [
        "%%time\n",
        "\n",
        "model_3.evaluate(X_test,Y_test)"
      ],
      "metadata": {
        "colab": {
          "base_uri": "https://localhost:8080/"
        },
        "id": "NlVofHhaxp2l",
        "outputId": "033d99c7-c006-4e2b-aa56-bf118800be44"
      },
      "execution_count": null,
      "outputs": [
        {
          "output_type": "stream",
          "name": "stdout",
          "text": [
            "10/10 [==============================] - 0s 5ms/step - loss: 0.0468 - mae: 0.0468\n",
            "CPU times: user 405 ms, sys: 17.6 ms, total: 422 ms\n",
            "Wall time: 419 ms\n"
          ]
        },
        {
          "output_type": "execute_result",
          "data": {
            "text/plain": [
              "[0.046815481036901474, 0.046815477311611176]"
            ]
          },
          "metadata": {},
          "execution_count": 64
        }
      ]
    },
    {
      "cell_type": "code",
      "source": [
        "%%time\n",
        "\n",
        "pd.DataFrame(history_3.history).plot()\n",
        "plt.ylabel(\"Mean absoulte error\")\n",
        "plt.xlabel(\"Epochs\")\n",
        "plt.title(\"LSTM Error\")"
      ],
      "metadata": {
        "colab": {
          "base_uri": "https://localhost:8080/",
          "height": 347
        },
        "id": "XMSMSFBzy__H",
        "outputId": "56557de8-e684-4355-978c-4d34dec404e9"
      },
      "execution_count": null,
      "outputs": [
        {
          "output_type": "stream",
          "name": "stdout",
          "text": [
            "CPU times: user 29.5 ms, sys: 2.76 ms, total: 32.2 ms\n",
            "Wall time: 32 ms\n"
          ]
        },
        {
          "output_type": "execute_result",
          "data": {
            "text/plain": [
              "Text(0.5, 1.0, 'LSTM Error')"
            ]
          },
          "metadata": {},
          "execution_count": 65
        },
        {
          "output_type": "display_data",
          "data": {
            "text/plain": [
              "<Figure size 432x288 with 1 Axes>"
            ],
            "image/png": "[encoded data removed]"
          },
          "metadata": {
            "needs_background": "light"
          }
        }
      ]
    },
    {
      "cell_type": "code",
      "source": [
        "y_pred_3 = model_3.predict(X_test)"
      ],
      "metadata": {
        "id": "6us76WTQcmki"
      },
      "execution_count": null,
      "outputs": []
    },
    {
      "cell_type": "code",
      "source": [
        "final_power_3 = y_pred_3 * (max_d - min_d) + min_d"
      ],
      "metadata": {
        "id": "7qDZ-EOocmid"
      },
      "execution_count": null,
      "outputs": []
    },
    {
      "cell_type": "code",
      "source": [
        "final_power_3[:10]"
      ],
      "metadata": {
        "colab": {
          "base_uri": "https://localhost:8080/"
        },
        "id": "E6q-aqf4cweS",
        "outputId": "418d8ef1-63b7-4360-af81-0e33c031cf00"
      },
      "execution_count": null,
      "outputs": [
        {
          "output_type": "execute_result",
          "data": {
            "text/plain": [
              "array([[383.0489 ],\n",
              "       [384.73642],\n",
              "       [384.0166 ],\n",
              "       [383.70358],\n",
              "       [382.69992],\n",
              "       [384.40213],\n",
              "       [384.07794],\n",
              "       [385.97778],\n",
              "       [384.11194],\n",
              "       [384.2452 ]], dtype=float32)"
            ]
          },
          "metadata": {},
          "execution_count": 68
        }
      ]
    },
    {
      "cell_type": "code",
      "source": [
        "plt.scatter(Y_test[:100], y_pred_3[:100])"
      ],
      "metadata": {
        "colab": {
          "base_uri": "https://localhost:8080/",
          "height": 282
        },
        "id": "1rWwUbNzcmgE",
        "outputId": "a57373e2-f8ab-45f8-c326-cc48bcf2d848"
      },
      "execution_count": null,
      "outputs": [
        {
          "output_type": "execute_result",
          "data": {
            "text/plain": [
              "<matplotlib.collections.PathCollection at 0x7f6dc2f6bd10>"
            ]
          },
          "metadata": {},
          "execution_count": 69
        },
        {
          "output_type": "display_data",
          "data": {
            "text/plain": [
              "<Figure size 432x288 with 1 Axes>"
            ],
            "image/png": "[encoded data removed]"
          },
          "metadata": {
            "needs_background": "light"
          }
        }
      ]
    },
    {
      "cell_type": "code",
      "source": [
        "X_train.shape"
      ],
      "metadata": {
        "colab": {
          "base_uri": "https://localhost:8080/"
        },
        "id": "18TQOTWWXxyP",
        "outputId": "1628ad3e-88af-4351-f7ba-0542419574c1"
      },
      "execution_count": null,
      "outputs": [
        {
          "output_type": "execute_result",
          "data": {
            "text/plain": [
              "(1248, 6)"
            ]
          },
          "metadata": {},
          "execution_count": 70
        }
      ]
    },
    {
      "cell_type": "markdown",
      "source": [
        "# Main Model 4 (RNN)"
      ],
      "metadata": {
        "id": "TNZ9gmR5TfXV"
      }
    },
    {
      "cell_type": "code",
      "source": [
        "# Simle RNN (Recurrent Neural network)\n",
        "\n",
        "%%time\n",
        "import tensorflow as tf\n",
        "import random\n",
        "\n",
        "tf.random.set_seed(42)\n",
        "\n",
        "model_4 = tf.keras.Sequential([tf.keras.layers.SimpleRNN(300,activation='tanh',return_sequences=True,input_shape=(6,1)),\n",
        "                               tf.keras.layers.Dropout(0.2,seed=42),\n",
        "                               tf.keras.layers.SimpleRNN(200,activation='tanh'),\n",
        "                               tf.keras.layers.Dropout(0.2,seed=42),\n",
        "                               tf.keras.layers.Dense(1)])\n",
        "\n",
        "model_4.compile(loss='mae',\n",
        "                optimizer= tf.keras.optimizers.Adam(learning_rate=0.001),\n",
        "                metrics = ['mae'])\n",
        "\n",
        "history_4 = model_4.fit(X_train,Y_train,epochs=30)"
      ],
      "metadata": {
        "colab": {
          "base_uri": "https://localhost:8080/"
        },
        "id": "qVrNnQGfehmS",
        "outputId": "daafca84-90cb-4ba9-bf2f-fa5009eb3ca0"
      },
      "execution_count": null,
      "outputs": [
        {
          "output_type": "stream",
          "name": "stdout",
          "text": [
            "Epoch 1/30\n",
            "39/39 [==============================] - 2s 10ms/step - loss: 0.2016 - mae: 0.2016\n",
            "Epoch 2/30\n",
            "39/39 [==============================] - 0s 10ms/step - loss: 0.0806 - mae: 0.0806\n",
            "Epoch 3/30\n",
            "39/39 [==============================] - 0s 10ms/step - loss: 0.0748 - mae: 0.0748\n",
            "Epoch 4/30\n",
            "39/39 [==============================] - 0s 9ms/step - loss: 0.0700 - mae: 0.0700\n",
            "Epoch 5/30\n",
            "39/39 [==============================] - 0s 10ms/step - loss: 0.0707 - mae: 0.0707\n",
            "Epoch 6/30\n",
            "39/39 [==============================] - 0s 10ms/step - loss: 0.0710 - mae: 0.0710\n",
            "Epoch 7/30\n",
            "39/39 [==============================] - 0s 10ms/step - loss: 0.0694 - mae: 0.0694\n",
            "Epoch 8/30\n",
            "39/39 [==============================] - 0s 10ms/step - loss: 0.0663 - mae: 0.0663\n",
            "Epoch 9/30\n",
            "39/39 [==============================] - 0s 9ms/step - loss: 0.0646 - mae: 0.0646\n",
            "Epoch 10/30\n",
            "39/39 [==============================] - 0s 10ms/step - loss: 0.0635 - mae: 0.0635\n",
            "Epoch 11/30\n",
            "39/39 [==============================] - 0s 10ms/step - loss: 0.0655 - mae: 0.0655\n",
            "Epoch 12/30\n",
            "39/39 [==============================] - 0s 9ms/step - loss: 0.0616 - mae: 0.0616\n",
            "Epoch 13/30\n",
            "39/39 [==============================] - 0s 10ms/step - loss: 0.0624 - mae: 0.0624\n",
            "Epoch 14/30\n",
            "39/39 [==============================] - 0s 9ms/step - loss: 0.0631 - mae: 0.0631\n",
            "Epoch 15/30\n",
            "39/39 [==============================] - 0s 9ms/step - loss: 0.0597 - mae: 0.0597\n",
            "Epoch 16/30\n",
            "39/39 [==============================] - 0s 10ms/step - loss: 0.0595 - mae: 0.0595\n",
            "Epoch 17/30\n",
            "39/39 [==============================] - 0s 10ms/step - loss: 0.0614 - mae: 0.0614\n",
            "Epoch 18/30\n",
            "39/39 [==============================] - 0s 10ms/step - loss: 0.0603 - mae: 0.0603\n",
            "Epoch 19/30\n",
            "39/39 [==============================] - 0s 10ms/step - loss: 0.0589 - mae: 0.0589\n",
            "Epoch 20/30\n",
            "39/39 [==============================] - 0s 10ms/step - loss: 0.0592 - mae: 0.0592\n",
            "Epoch 21/30\n",
            "39/39 [==============================] - 0s 9ms/step - loss: 0.0591 - mae: 0.0591\n",
            "Epoch 22/30\n",
            "39/39 [==============================] - 0s 10ms/step - loss: 0.0580 - mae: 0.0580\n",
            "Epoch 23/30\n",
            "39/39 [==============================] - 0s 9ms/step - loss: 0.0583 - mae: 0.0583\n",
            "Epoch 24/30\n",
            "39/39 [==============================] - 0s 10ms/step - loss: 0.0583 - mae: 0.0583\n",
            "Epoch 25/30\n",
            "39/39 [==============================] - 0s 10ms/step - loss: 0.0573 - mae: 0.0573\n",
            "Epoch 26/30\n",
            "39/39 [==============================] - 0s 10ms/step - loss: 0.0575 - mae: 0.0575\n",
            "Epoch 27/30\n",
            "39/39 [==============================] - 0s 9ms/step - loss: 0.0578 - mae: 0.0578\n",
            "Epoch 28/30\n",
            "39/39 [==============================] - 0s 9ms/step - loss: 0.0579 - mae: 0.0579\n",
            "Epoch 29/30\n",
            "39/39 [==============================] - 0s 10ms/step - loss: 0.0573 - mae: 0.0573\n",
            "Epoch 30/30\n",
            "39/39 [==============================] - 0s 9ms/step - loss: 0.0578 - mae: 0.0578\n",
            "CPU times: user 15.8 s, sys: 1.49 s, total: 17.3 s\n",
            "Wall time: 12.8 s\n"
          ]
        }
      ]
    },
    {
      "cell_type": "code",
      "source": [
        "%%time\n",
        "\n",
        "pd.DataFrame(history_4.history).plot()\n",
        "plt.ylabel(\"Mean absoulte error\")\n",
        "plt.xlabel(\"Epochs\")\n",
        "plt.title(\"RNN Error\")"
      ],
      "metadata": {
        "colab": {
          "base_uri": "https://localhost:8080/",
          "height": 347
        },
        "id": "ytFhbi1jQgPV",
        "outputId": "af55e476-a492-47d7-e25e-6f0e6af4717d"
      },
      "execution_count": null,
      "outputs": [
        {
          "output_type": "stream",
          "name": "stdout",
          "text": [
            "CPU times: user 29.4 ms, sys: 2.02 ms, total: 31.4 ms\n",
            "Wall time: 30.7 ms\n"
          ]
        },
        {
          "output_type": "execute_result",
          "data": {
            "text/plain": [
              "Text(0.5, 1.0, 'RNN Error')"
            ]
          },
          "metadata": {},
          "execution_count": 72
        },
        {
          "output_type": "display_data",
          "data": {
            "text/plain": [
              "<Figure size 432x288 with 1 Axes>"
            ],
            "image/png": "[encoded data removed]"
          },
          "metadata": {
            "needs_background": "light"
          }
        }
      ]
    },
    {
      "cell_type": "code",
      "source": [
        "model_4.summary()"
      ],
      "metadata": {
        "colab": {
          "base_uri": "https://localhost:8080/"
        },
        "id": "_AYwfj9zdbLa",
        "outputId": "e852e503-f945-4642-bd2a-d43621291511"
      },
      "execution_count": null,
      "outputs": [
        {
          "output_type": "stream",
          "name": "stdout",
          "text": [
            "Model: \"sequential_3\"\n",
            "_________________________________________________________________\n",
            " Layer (type)                Output Shape              Param #   \n",
            "=================================================================\n",
            " simple_rnn (SimpleRNN)      (None, 6, 300)            90600     \n",
            "                                                                 \n",
            " dropout_2 (Dropout)         (None, 6, 300)            0         \n",
            "                                                                 \n",
            " simple_rnn_1 (SimpleRNN)    (None, 200)               100200    \n",
            "                                                                 \n",
            " dropout_3 (Dropout)         (None, 200)               0         \n",
            "                                                                 \n",
            " dense_8 (Dense)             (None, 1)                 201       \n",
            "                                                                 \n",
            "=================================================================\n",
            "Total params: 191,001\n",
            "Trainable params: 191,001\n",
            "Non-trainable params: 0\n",
            "_________________________________________________________________\n"
          ]
        }
      ]
    },
    {
      "cell_type": "code",
      "source": [
        "model_4.evaluate(X_test,Y_test)"
      ],
      "metadata": {
        "colab": {
          "base_uri": "https://localhost:8080/"
        },
        "id": "UHtXxGtp8kN0",
        "outputId": "131a22f6-4489-4d95-e7ea-b128de27329d"
      },
      "execution_count": null,
      "outputs": [
        {
          "output_type": "stream",
          "name": "stdout",
          "text": [
            "10/10 [==============================] - 0s 4ms/step - loss: 0.0481 - mae: 0.0481\n"
          ]
        },
        {
          "output_type": "execute_result",
          "data": {
            "text/plain": [
              "[0.04807914048433304, 0.04807914048433304]"
            ]
          },
          "metadata": {},
          "execution_count": 74
        }
      ]
    },
    {
      "cell_type": "code",
      "source": [
        "y_pred_4 = model_4.predict(Y_test)"
      ],
      "metadata": {
        "colab": {
          "base_uri": "https://localhost:8080/"
        },
        "id": "zx95fcKo9UKk",
        "outputId": "f542fc9e-be13-4893-80e0-1eb955f2ab7e"
      },
      "execution_count": null,
      "outputs": [
        {
          "output_type": "stream",
          "name": "stderr",
          "text": [
            "WARNING:tensorflow:Model was constructed with shape (None, 6, 1) for input KerasTensor(type_spec=TensorSpec(shape=(None, 6, 1), dtype=tf.float32, name='simple_rnn_input'), name='simple_rnn_input', description=\"created by layer 'simple_rnn_input'\"), but it was called on an input with incompatible shape (None, 1, 1).\n"
          ]
        }
      ]
    },
    {
      "cell_type": "code",
      "source": [
        "y_pred_4[:10]"
      ],
      "metadata": {
        "colab": {
          "base_uri": "https://localhost:8080/"
        },
        "id": "0QkJ3XirdGXn",
        "outputId": "91d01eed-8cba-4bac-f743-1f09ee85db07"
      },
      "execution_count": null,
      "outputs": [
        {
          "output_type": "execute_result",
          "data": {
            "text/plain": [
              "array([[0.11232524],\n",
              "       [0.11338878],\n",
              "       [0.11358734],\n",
              "       [0.11608385],\n",
              "       [0.11247824],\n",
              "       [0.11505902],\n",
              "       [0.11297423],\n",
              "       [0.11220317],\n",
              "       [0.1127895 ],\n",
              "       [0.11442654]], dtype=float32)"
            ]
          },
          "metadata": {},
          "execution_count": 76
        }
      ]
    },
    {
      "cell_type": "code",
      "source": [
        "final_power_4 = y_pred_4 * (max_d - min_d) + min_d"
      ],
      "metadata": {
        "id": "6zxYUp-odGVo"
      },
      "execution_count": null,
      "outputs": []
    },
    {
      "cell_type": "code",
      "source": [
        "final_power_4[:10]"
      ],
      "metadata": {
        "colab": {
          "base_uri": "https://localhost:8080/"
        },
        "id": "ua21pDCHdGTP",
        "outputId": "960fd3ff-d709-4019-9cf0-8a7b69507032"
      },
      "execution_count": null,
      "outputs": [
        {
          "output_type": "execute_result",
          "data": {
            "text/plain": [
              "array([[423.8256 ],\n",
              "       [427.83856],\n",
              "       [428.58777],\n",
              "       [438.00757],\n",
              "       [424.4029 ],\n",
              "       [434.1407 ],\n",
              "       [426.27438],\n",
              "       [423.36502],\n",
              "       [425.57736],\n",
              "       [431.7542 ]], dtype=float32)"
            ]
          },
          "metadata": {},
          "execution_count": 78
        }
      ]
    },
    {
      "cell_type": "code",
      "source": [
        "plt.scatter(Y_test[:100], y_pred_4[:100])"
      ],
      "metadata": {
        "colab": {
          "base_uri": "https://localhost:8080/",
          "height": 283
        },
        "id": "guI-q8stdGQ8",
        "outputId": "3982ab6b-1e61-4663-df2c-4ea36a3794d7"
      },
      "execution_count": null,
      "outputs": [
        {
          "output_type": "execute_result",
          "data": {
            "text/plain": [
              "<matplotlib.collections.PathCollection at 0x7f6dc3414310>"
            ]
          },
          "metadata": {},
          "execution_count": 79
        },
        {
          "output_type": "display_data",
          "data": {
            "text/plain": [
              "<Figure size 432x288 with 1 Axes>"
            ],
            "image/png": "[encoded data removed]"
          },
          "metadata": {
            "needs_background": "light"
          }
        }
      ]
    },
    {
      "cell_type": "code",
      "source": [
        "print('he')"
      ],
      "metadata": {
        "id": "yGG3l8Vp9bfD",
        "colab": {
          "base_uri": "https://localhost:8080/"
        },
        "outputId": "17336c17-f330-4d97-b791-d048d97c65fd"
      },
      "execution_count": null,
      "outputs": [
        {
          "output_type": "stream",
          "name": "stdout",
          "text": [
            "he\n"
          ]
        }
      ]
    },
    {
      "cell_type": "markdown",
      "source": [
        "# Saving the model"
      ],
      "metadata": {
        "id": "OkXZ9GdbKU3F"
      }
    },
    {
      "cell_type": "code",
      "source": [
        "#model_1.save(\"NeuralN_try1.h5\")"
      ],
      "metadata": {
        "id": "hEom415GTvzB"
      },
      "execution_count": null,
      "outputs": []
    },
    {
      "cell_type": "code",
      "source": [
        "#model_2.save(\"ffnndrouput2.h5\")"
      ],
      "metadata": {
        "id": "HRmDYDphKcTm"
      },
      "execution_count": null,
      "outputs": []
    },
    {
      "cell_type": "code",
      "source": [
        "#model_3.save(\"lstm.h5\")"
      ],
      "metadata": {
        "id": "d-fU7sWEUaKL"
      },
      "execution_count": null,
      "outputs": []
    },
    {
      "cell_type": "code",
      "source": [
        "#model_4.save(\"rnn.h5\")"
      ],
      "metadata": {
        "id": "7temi7qrUaH9"
      },
      "execution_count": null,
      "outputs": []
    },
    {
      "cell_type": "code",
      "source": [],
      "metadata": {
        "id": "RDzhebl1UZ4x"
      },
      "execution_count": null,
      "outputs": []
    },
    {
      "cell_type": "code",
      "source": [],
      "metadata": {
        "id": "IzBezthzUZ2Y"
      },
      "execution_count": null,
      "outputs": []
    },
    {
      "cell_type": "markdown",
      "source": [
        "# Details of Neural Network\n",
        "* Model 1(FeedForward NN)-->\n",
        "  Total layers = 3, activation function = Relu,\n",
        "  optimizer = Adam(lr=0.001), MAE: 0.047, epochs = 20\n",
        "* Model 2(FeedForward NN with dropout layers)--> Total layers = 4, activation function = relu, optimizer = Adam(lr=0.001), MAE: 0.0481,epochs = 20,dropout=0.2\n",
        "* Model 3(LSTM)--> Total layers = 3, activation function = relu,\n",
        "  optimizer = Adam(lr=0.001), MAE: 0.05034, epochs = 9\n",
        "* Model 4(simple RNN)--> Total layers = 4, activation function = tanh,\n",
        "  optimizer = Adam(lr=0.001), MAE: 0.05134, epochs = 30, drouput = 0.2"
      ],
      "metadata": {
        "id": "zuqgQzx9oXnG"
      }
    },
    {
      "cell_type": "code",
      "source": [],
      "metadata": {
        "id": "I0PYhOnwZXWw"
      },
      "execution_count": null,
      "outputs": []
    },
    {
      "cell_type": "code",
      "source": [],
      "metadata": {
        "id": "7-ANuBQt5fmr"
      },
      "execution_count": null,
      "outputs": []
    }
  ],
  "metadata": {
    "colab": {
      "provenance": [],
      "toc_visible": true
    },
    "gpuClass": "standard",
    "kernelspec": {
      "display_name": "Python 3",
      "name": "python3"
    },
    "language_info": {
      "name": "python"
    },
    "accelerator": "GPU"
  },
  "nbformat": 4,
  "nbformat_minor": 0
}